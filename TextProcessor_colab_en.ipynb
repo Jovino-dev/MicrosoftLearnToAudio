{
 "cells": [
  {
   "cell_type": "markdown",
   "id": "1f383482",
   "metadata": {},
   "source": [
    "# Text Processing with TextProcessor\n",
    "This notebook allows you to clean, structure, and split text into chunks using the `TextProcessor` class adapted from your project. Ideal for preparing text before converting it to audio or for other natural language processing uses."
   ]
  },
  {
   "cell_type": "code",
   "execution_count": null,
   "id": "fb7bc097",
   "metadata": {
    "vscode": {
     "languageId": "plaintext"
    }
   },
   "outputs": [],
   "source": [
    "# Import required libraries\n",
    "import re\n",
    "from typing import List"
   ]
  }
 ],
 "metadata": {
  "language_info": {
   "name": "csharp"
  }
 },
 "nbformat": 4,
 "nbformat_minor": 5
}
