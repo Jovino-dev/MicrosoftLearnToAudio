{
 "cells": [
  {
   "cell_type": "markdown",
   "id": "c9c35bdf",
   "metadata": {},
   "source": [
    "# Procesamiento de Texto con TextProcessor\n",
    "Este notebook permite limpiar, estructurar y dividir texto en chunks usando la clase `TextProcessor` adaptada de tu proyecto. Ideal para preparar texto antes de convertirlo a audio o para otros usos de procesamiento de lenguaje natural."
   ]
  },
  {
   "cell_type": "code",
   "execution_count": null,
   "id": "1fa9652d",
   "metadata": {
    "vscode": {
     "languageId": "python"
    }
   },
   "outputs": [],
   "source": [
    "# Importar librerías necesarias\n",
    "import re\n",
    "from typing import List\n"
   ]
  },
  {
   "cell_type": "code",
   "execution_count": null,
   "id": "e0730180",
   "metadata": {
    "vscode": {
     "languageId": "python"
    }
   },
   "outputs": [],
   "source": [
    "# Definir la clase TextProcessor\n",
    "class TextProcessor:\n",
    "    def __init__(self):\n",
    "        self.cleanup_patterns = [\n",
    "            (r'\\s+', ' '),\n",
    "            (r'\\n\\s*\\n\\s*\\n+', '\\n\\n'),\n",
    "            (r'[^\\w\\s\\-.,;:!?¡¿áéíóúñüÁÉÍÓÚÑÜ()[\\]\"\\'/]', ''),\n",
    "            (r'\\.{2,}', '.'),\n",
    "            (r'\\?{2,}', '?'),\n",
    "            (r'!{2,}', '!'),\n",
    "        ]\n",
    "        self.filter_phrases = [\n",
    "            'skip to main content', 'breadcrumb navigation', 'table of contents',\n",
    "            'in this article', 'next steps', 'feedback', 'was this page helpful',\n",
    "            'submit and view feedback', 'microsoft learn', 'sign in', 'search',\n",
    "            'browse', 'theme', 'light', 'dark', 'high contrast', 'previous unit',\n",
    "            'next unit', 'completed', 'check your knowledge', 'knowledge check'\n",
    "        ]\n",
    "\n",
    "    def clean_and_structure(self, raw_text):\n",
    "        if not raw_text:\n",
    "            return \"\"\n",
    "        text = self._basic_cleanup(raw_text)\n",
    "        text = self._filter_unwanted_content(text)\n",
    "        text = self._structure_for_audio(text)\n",
    "        text = self._normalize_spacing(text)\n",
    "        return text.strip()\n",
    "\n",
    "    def _basic_cleanup(self, text):\n",
    "        for pattern, replacement in self.cleanup_patterns:\n",
    "            text = re.sub(pattern, replacement, text)\n",
    "        return text\n",
    "\n",
    "    def _filter_unwanted_content(self, text):\n",
    "        lines = text.split('\\n')\n",
    "        filtered_lines = []\n",
    "        for line in lines:\n",
    "            line = line.strip()\n",
    "            line_lower = line.lower()\n",
    "            if len(line) < 3:\n",
    "                continue\n",
    "            should_filter = False\n",
    "            for phrase in self.filter_phrases:\n",
    "                if phrase in line_lower:\n",
    "                    should_filter = True\n",
    "                    break\n",
    "            if (line_lower.startswith(('http', 'www.', 'mailto:')) or\n",
    "                line_lower.endswith(('min', 'sec', 'hr')) or\n",
    "                re.match(r'^\\d+\\s*(min|sec|hr|minute|second|hour)', line_lower) or\n",
    "                re.match(r'^(step \\d+|unit \\d+|\\d+\\.)$', line_lower)):\n",
    "                should_filter = True\n",
    "            if not should_filter:\n",
    "                filtered_lines.append(line)\n",
    "        return '\\n'.join(filtered_lines)\n",
    "\n",
    "    def _structure_for_audio(self, text):\n",
    "        lines = text.split('\\n')\n",
    "        structured_lines = []\n",
    "        for line in lines:\n",
    "            line = line.strip()\n",
    "            if not line:\n",
    "                continue\n",
    "            if self._is_heading(line):\n",
    "                structured_lines.append(f\"{line}.\")\n",
    "                structured_lines.append(\"\")\n",
    "            else:\n",
    "                if line and not line[-1] in '.!?':\n",
    "                    line += '.'\n",
    "                structured_lines.append(line)\n",
    "        return '\\n'.join(structured_lines)\n",
    "\n",
    "    def _is_heading(self, line):\n",
    "        return (len(line) < 100 and \n",
    "                not line.endswith(('.', '!', '?', ',', ';', ':')) and\n",
    "                (line.isupper() or line.istitle() or \n",
    "                 any(word.isupper() for word in line.split())))\n",
    "\n",
    "    def _normalize_spacing(self, text):\n",
    "        text = re.sub(r' +', ' ', text)\n",
    "        text = re.sub(r'\\n\\s*\\n\\s*\\n+', '\\n\\n', text)\n",
    "        lines = [line.strip() for line in text.split('\\n')]\n",
    "        return '\\n'.join(lines)\n",
    "\n",
    "    def split_into_chunks(self, text, max_chunk_size=4000):\n",
    "        if len(text) <= max_chunk_size:\n",
    "            return [text]\n",
    "        chunks = []\n",
    "        sentences = re.split(r'[.!?]+\\s+', text)\n",
    "        current_chunk = \"\"\n",
    "        for sentence in sentences:\n",
    "            if len(current_chunk) + len(sentence) > max_chunk_size:\n",
    "                if current_chunk:\n",
    "                    chunks.append(current_chunk.strip())\n",
    "                current_chunk = sentence\n",
    "            else:\n",
    "                if current_chunk:\n",
    "                    current_chunk += \". \" + sentence\n",
    "                else:\n",
    "                    current_chunk = sentence\n",
    "        if current_chunk:\n",
    "            chunks.append(current_chunk.strip())\n",
    "        return chunks\n"
   ]
  },
  {
   "cell_type": "markdown",
   "id": "ac239837",
   "metadata": {},
   "source": [
    "## Cargar texto de entrada\n",
    "Puedes pegar el texto manualmente o cargarlo desde un archivo de texto."
   ]
  },
  {
   "cell_type": "code",
   "execution_count": null,
   "id": "0a7a62e7",
   "metadata": {
    "vscode": {
     "languageId": "python"
    }
   },
   "outputs": [],
   "source": [
    "# Cargar texto manualmente o desde archivo\n",
    "def cargar_texto():\n",
    "    try:\n",
    "        from google.colab import files\n",
    "        uploaded = files.upload()\n",
    "        for fn in uploaded.keys():\n",
    "            with open(fn, encoding='utf-8') as f:\n",
    "                return f.read()\n",
    "    except ImportError:\n",
    "        print(\"No estás en Google Colab. Pega el texto manualmente.\")\n",
    "        return input(\"Pega el texto aquí:\\n\")\n",
    "\n",
    "texto_entrada = cargar_texto()\n",
    "print(\"Longitud del texto cargado:\", len(texto_entrada))\n"
   ]
  },
  {
   "cell_type": "markdown",
   "id": "3255fb11",
   "metadata": {},
   "source": [
    "## Procesar texto con TextProcessor\n",
    "Limpia y estructura el texto para su uso posterior (por ejemplo, TTS)."
   ]
  },
  {
   "cell_type": "code",
   "execution_count": null,
   "id": "b2626d4f",
   "metadata": {
    "vscode": {
     "languageId": "python"
    }
   },
   "outputs": [],
   "source": [
    "# Procesar texto\n",
    "processor = TextProcessor()\n",
    "texto_procesado = processor.clean_and_structure(texto_entrada)\n",
    "print(\"Ejemplo de texto procesado:\\n\", texto_procesado[:500])"
   ]
  },
  {
   "cell_type": "markdown",
   "id": "711dd07c",
   "metadata": {},
   "source": [
    "## Dividir texto en chunks\n",
    "Divide el texto procesado en partes más pequeñas para facilitar su uso en TTS u otros procesos."
   ]
  },
  {
   "cell_type": "code",
   "execution_count": null,
   "id": "d4b6fac2",
   "metadata": {
    "vscode": {
     "languageId": "python"
    }
   },
   "outputs": [],
   "source": [
    "# Dividir texto en chunks\n",
    "chunks = processor.split_into_chunks(texto_procesado, max_chunk_size=4000)\n",
    "print(f\"Se generaron {len(chunks)} chunks. Ejemplo del primer chunk:\\n\", chunks[0][:500])"
   ]
  },
  {
   "cell_type": "markdown",
   "id": "230a77c2",
   "metadata": {},
   "source": [
    "## Parámetros de entrada\n",
    "Introduce la URL del módulo, el idioma, la velocidad y el tipo de voz para el procesamiento."
   ]
  },
  {
   "cell_type": "code",
   "execution_count": null,
   "id": "e2f4c621",
   "metadata": {
    "vscode": {
     "languageId": "python"
    }
   },
   "outputs": [],
   "source": [
    "# Inputs para argumentos principales\n",
    "definir_inputs = True\n",
    "try:\n",
    "    from google.colab import widgets\n",
    "    from google.colab import output as colab_output\n",
    "    from google.colab import files\n",
    "    from IPython.display import display\n",
    "    import ipywidgets as widgets\n",
    "except ImportError:\n",
    "    definir_inputs = False\n",
    "\n",
    "if definir_inputs:\n",
    "    url = widgets.Text(\n",
    "        value='',\n",
    "        placeholder='Pega la URL del módulo de Microsoft Learn',\n",
    "        description='URL:',\n",
    "        disabled=False\n",
    "    )\n",
    "    language = widgets.Text(value='es', description='Idioma:')\n",
    "    speed = widgets.FloatSlider(value=1.0, min=0.5, max=2.0, step=0.1, description='Velocidad:')\n",
    "    voice = widgets.Dropdown(options=['online', 'offline'], value='online', description='Voz:')\n",
    "    display(url, language, speed, voice)\n",
    "else:\n",
    "    url = input('URL del módulo: ')\n",
    "    language = input('Idioma (ej: es): ')\n",
    "    speed = float(input('Velocidad (0.5-2.0): '))\n",
    "    voice = input('Voz (online/offline): ')\n"
   ]
  },
  {
   "cell_type": "markdown",
   "id": "06c3c23e",
   "metadata": {},
   "source": [
    "## Descargar y procesar las unidades del módulo\n",
    "Esta celda descarga las unidades, procesa el texto y genera los audios."
   ]
  },
  {
   "cell_type": "code",
   "execution_count": null,
   "id": "d041e3f1",
   "metadata": {
    "vscode": {
     "languageId": "python"
    }
   },
   "outputs": [],
   "source": [
    "# Instalar dependencias necesarias para Colab\n",
    "def instalar_dependencias():\n",
    "    import sys\n",
    "    !{sys.executable} -m pip install gtts pydub requests beautifulsoup4 pyttsx3\n",
    "    !apt-get install -y ffmpeg espeak\n",
    "\n",
    "instalar_dependencias()\n",
    "\n",
    "import requests\n",
    "from bs4 import BeautifulSoup\n",
    "from gtts import gTTS\n",
    "from pydub import AudioSegment\n",
    "import os\n",
    "import shutil\n",
    "import zipfile\n",
    "import sys\n",
    "\n",
    "# Intentar importar pyttsx3 (offline)\n",
    "try:\n",
    "    import pyttsx3\n",
    "    offline_tts_available = True\n",
    "except ImportError:\n",
    "    offline_tts_available = False\n",
    "\n",
    "# Función para obtener enlaces de unidades (class='unit-title')\n",
    "def get_units_links(url):\n",
    "    response = requests.get(url)\n",
    "    soup = BeautifulSoup(response.content, 'html.parser')\n",
    "    units = []\n",
    "    for a in soup.find_all('a', class_='unit-title', href=True):\n",
    "        full_url = requests.compat.urljoin(url, a['href'])\n",
    "        if full_url not in units:\n",
    "            units.append(full_url)\n",
    "    return units\n",
    "\n",
    "# Función para extraer el título de la página\n",
    "def extract_title(soup):\n",
    "    title_elem = soup.select_one('h1[data-bi-name=\"page-title\"], h1.title, h1, .page-title h1, [data-bi-name=\"page-title\"]')\n",
    "    if title_elem:\n",
    "        return title_elem.get_text().strip()\n",
    "    title_tag = soup.find('title')\n",
    "    if title_tag:\n",
    "        return title_tag.get_text().strip()\n",
    "    return \"modulo\"\n",
    "\n",
    "# Conversión a audio usando pyttsx3 (offline)\n",
    "def text_to_audio_offline(text, output_path, language='es', speed=1.0):\n",
    "    engine = pyttsx3.init()\n",
    "    # Configurar idioma/voz si es posible\n",
    "    voices = engine.getProperty('voices')\n",
    "    selected_voice = None\n",
    "    for v in voices:\n",
    "        if language in v.id or language in v.name.lower():\n",
    "            selected_voice = v.id\n",
    "            break\n",
    "    if selected_voice:\n",
    "        engine.setProperty('voice', selected_voice)\n",
    "    engine.setProperty('rate', int(200 * speed))\n",
    "    wav_path = output_path.replace('.mp3', '.wav')\n",
    "    engine.save_to_file(text, wav_path)\n",
    "    engine.runAndWait()\n",
    "    # Convertir a mp3\n",
    "    audio = AudioSegment.from_wav(wav_path)\n",
    "    audio.export(output_path, format='mp3')\n",
    "    os.remove(wav_path)\n",
    "\n",
    "# Procesamiento principal\n",
    "def procesar_modulo(url, language, speed, voice):\n",
    "    units = get_units_links(url)\n",
    "    if not units:\n",
    "        print(\"No se encontraron unidades en el módulo.\")\n",
    "        return None\n",
    "    print(f\"{len(units)} unidades encontradas.\")\n",
    "    # Obtener nombre del módulo\n",
    "    response = requests.get(url)\n",
    "    soup = BeautifulSoup(response.content, 'html.parser')\n",
    "    module_title = extract_title(soup)\n",
    "    safe_module_title = module_title.replace(' ', '_').replace('/', '_')\n",
    "    output_dir = f\"output_{safe_module_title}\"\n",
    "    os.makedirs(output_dir, exist_ok=True)\n",
    "    for idx, unit_url in enumerate(units, 1):\n",
    "        print(f\"Procesando unidad {idx}: {unit_url}\")\n",
    "        unit_resp = requests.get(unit_url)\n",
    "        unit_soup = BeautifulSoup(unit_resp.content, 'html.parser')\n",
    "        unit_title = extract_title(unit_soup)\n",
    "        safe_title = unit_title.replace(' ', '_').replace('/', '_')\n",
    "        # Extraer texto principal\n",
    "        main_content = unit_soup.select_one('main, .content, [role=\"main\"], .main-content, article, .module-content')\n",
    "        if not main_content:\n",
    "            main_content = unit_soup\n",
    "        text = main_content.get_text(separator='\\n')\n",
    "        processor = TextProcessor()\n",
    "        processed_text = processor.clean_and_structure(text)\n",
    "        # Convertir a audio\n",
    "        audio_path = os.path.join(output_dir, f\"unidad_{idx}-{safe_title}.mp3\")\n",
    "        if voice == 'offline' and offline_tts_available:\n",
    "            text_to_audio_offline(processed_text, audio_path, language=language, speed=speed)\n",
    "        else:\n",
    "            tts = gTTS(text=processed_text, lang=language, slow=False)\n",
    "            tts.save(audio_path)\n",
    "        print(f\"Audio guardado: {audio_path}\")\n",
    "    return output_dir\n",
    "\n",
    "# Ejecutar procesamiento\n",
    "dir_modulo = procesar_modulo(url.value if definir_inputs else url, language.value if definir_inputs else language, speed.value if definir_inputs else speed, voice.value if definir_inputs else voice)\n"
   ]
  },
  {
   "cell_type": "markdown",
   "id": "189d3564",
   "metadata": {},
   "source": [
    "## Descargar el módulo como ZIP\n",
    "Al finalizar, descarga todos los audios en un archivo comprimido."
   ]
  },
  {
   "cell_type": "code",
   "execution_count": null,
   "id": "b156d77d",
   "metadata": {
    "vscode": {
     "languageId": "python"
    }
   },
   "outputs": [],
   "source": [
    "# Crear y descargar ZIP del módulo\n",
    "if dir_modulo:\n",
    "    zip_path = f\"{dir_modulo}.zip\"\n",
    "    with zipfile.ZipFile(zip_path, 'w') as zipf:\n",
    "        for root, _, files in os.walk(dir_modulo):\n",
    "            for file in files:\n",
    "                zipf.write(os.path.join(root, file), arcname=os.path.join(os.path.basename(dir_modulo), file))\n",
    "    print(f\"ZIP creado: {zip_path}\")\n",
    "    from google.colab import files\n",
    "    files.download(zip_path)\n",
    "else:\n",
    "    print(\"No se generó ningún módulo para comprimir.\")\n"
   ]
  }
 ],
 "metadata": {
  "language_info": {
   "name": "csharp"
  }
 },
 "nbformat": 4,
 "nbformat_minor": 5
}
