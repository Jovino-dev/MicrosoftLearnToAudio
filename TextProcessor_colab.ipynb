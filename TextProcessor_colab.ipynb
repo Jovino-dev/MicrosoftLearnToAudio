{
  "cells": [
    {
      "cell_type": "markdown",
      "metadata": {
        "id": "view-in-github",
        "colab_type": "text"
      },
      "source": [
        "<a href=\"https://colab.research.google.com/github/Jovino-dev/MicrosoftLearnToAudio/blob/main/TextProcessor_colab.ipynb\" target=\"_parent\"><img src=\"https://colab.research.google.com/assets/colab-badge.svg\" alt=\"Open In Colab\"/></a>"
      ]
    },
    {
      "cell_type": "markdown",
      "id": "c9c35bdf",
      "metadata": {
        "id": "c9c35bdf"
      },
      "source": [
        "# Audio extraction from Microsoft learn module\n",
        "This notebook allows to convert a full Microsoft learn module to audio"
      ]
    },
    {
      "cell_type": "markdown",
      "id": "230a77c2",
      "metadata": {
        "id": "230a77c2"
      },
      "source": [
        "## Parámetros de entrada\n",
        "Introduce la URL del módulo, el idioma, la velocidad y el tipo de voz para el procesamiento."
      ]
    },
    {
      "cell_type": "code",
      "execution_count": 4,
      "id": "e2f4c621",
      "metadata": {
        "vscode": {
          "languageId": "python"
        },
        "id": "e2f4c621",
        "outputId": "c22b7d3b-4fc9-4317-9747-30dd5a35e2bd",
        "colab": {
          "base_uri": "https://localhost:8080/",
          "height": 109,
          "referenced_widgets": [
            "5910bc4ab0e64a279848a1a2b4fcc5ec",
            "7665348301f649d4bb31ed4ef0920647",
            "63901aaf4b284780af43ccc295e154a3",
            "5b1ee395df42426fb72ada57676b3ebc",
            "6fae1ac382f048f7bda76e88c3862355",
            "4da20bfd8b03467dbb5ed8c084a009c5",
            "8126cf5c2df94868ae6126b6ec065275",
            "8740a4bc4a8e444084d7ba839878cc89",
            "e3ad3aa91692447a9da7b742871dda42"
          ]
        }
      },
      "outputs": [
        {
          "output_type": "display_data",
          "data": {
            "text/plain": [
              "Text(value='', description='URL:', placeholder='Paste Learn Module URL')"
            ],
            "application/vnd.jupyter.widget-view+json": {
              "version_major": 2,
              "version_minor": 0,
              "model_id": "5910bc4ab0e64a279848a1a2b4fcc5ec"
            }
          },
          "metadata": {}
        },
        {
          "output_type": "display_data",
          "data": {
            "text/plain": [
              "Text(value='es', description='Language:')"
            ],
            "application/vnd.jupyter.widget-view+json": {
              "version_major": 2,
              "version_minor": 0,
              "model_id": "5b1ee395df42426fb72ada57676b3ebc"
            }
          },
          "metadata": {}
        },
        {
          "output_type": "display_data",
          "data": {
            "text/plain": [
              "FloatSlider(value=1.2, description='Speed:', max=2.0, min=0.5)"
            ],
            "application/vnd.jupyter.widget-view+json": {
              "version_major": 2,
              "version_minor": 0,
              "model_id": "8126cf5c2df94868ae6126b6ec065275"
            }
          },
          "metadata": {}
        }
      ],
      "source": [
        "#@title Inputs\n",
        "\n",
        "# Import necessary libraries for Colab widgets and output.\n",
        "from google.colab import widgets\n",
        "from google.colab import output as colab_output\n",
        "from google.colab import files\n",
        "from IPython.display import display\n",
        "import ipywidgets as widgets\n",
        "\n",
        "# Create input widgets for URL, language, and speed.\n",
        "url = widgets.Text(\n",
        "    value='',\n",
        "    placeholder='Paste Learn Module URL',\n",
        "    description='URL:',\n",
        "    disabled=False\n",
        ")\n",
        "language = widgets.Text(value='es', description='Language:')\n",
        "speed = widgets.FloatSlider(value=1.20, min=0.5, max=2.0, step=0.1, description='Speed:')\n",
        "\n",
        "# Display the input widgets.\n",
        "display(url, language, speed)"
      ]
    },
    {
      "cell_type": "markdown",
      "id": "06c3c23e",
      "metadata": {
        "id": "06c3c23e"
      },
      "source": [
        "## Descargar y procesar las unidades del módulo\n",
        "Esta celda descarga las unidades, procesa el texto y genera los audios."
      ]
    },
    {
      "cell_type": "code",
      "execution_count": 8,
      "id": "e0730180",
      "metadata": {
        "vscode": {
          "languageId": "python"
        },
        "id": "e0730180",
        "outputId": "e71801ee-e1d9-492a-c54b-1ffc43cda8c7",
        "colab": {
          "base_uri": "https://localhost:8080/"
        }
      },
      "outputs": [
        {
          "output_type": "stream",
          "name": "stdout",
          "text": [
            "Requirement already satisfied: gtts in /usr/local/lib/python3.11/dist-packages (2.5.4)\n",
            "Requirement already satisfied: pydub in /usr/local/lib/python3.11/dist-packages (0.25.1)\n",
            "Requirement already satisfied: requests in /usr/local/lib/python3.11/dist-packages (2.32.3)\n",
            "Requirement already satisfied: beautifulsoup4 in /usr/local/lib/python3.11/dist-packages (4.13.4)\n",
            "Requirement already satisfied: pyttsx3 in /usr/local/lib/python3.11/dist-packages (2.98)\n",
            "Requirement already satisfied: click<8.2,>=7.1 in /usr/local/lib/python3.11/dist-packages (from gtts) (8.1.8)\n",
            "Requirement already satisfied: charset-normalizer<4,>=2 in /usr/local/lib/python3.11/dist-packages (from requests) (3.4.2)\n",
            "Requirement already satisfied: idna<4,>=2.5 in /usr/local/lib/python3.11/dist-packages (from requests) (3.10)\n",
            "Requirement already satisfied: urllib3<3,>=1.21.1 in /usr/local/lib/python3.11/dist-packages (from requests) (2.4.0)\n",
            "Requirement already satisfied: certifi>=2017.4.17 in /usr/local/lib/python3.11/dist-packages (from requests) (2025.4.26)\n",
            "Requirement already satisfied: soupsieve>1.2 in /usr/local/lib/python3.11/dist-packages (from beautifulsoup4) (2.7)\n",
            "Requirement already satisfied: typing-extensions>=4.0.0 in /usr/local/lib/python3.11/dist-packages (from beautifulsoup4) (4.14.0)\n",
            "Reading package lists... Done\n",
            "Building dependency tree... Done\n",
            "Reading state information... Done\n",
            "espeak is already the newest version (1.48.15+dfsg-3).\n",
            "ffmpeg is already the newest version (7:4.4.2-0ubuntu0.22.04.1).\n",
            "0 upgraded, 0 newly installed, 0 to remove and 35 not upgraded.\n",
            "13 unidades encontradas.\n",
            "Procesando unidad 1: https://learn.microsoft.com/es-es/training/modules/introduction-power-platform/1-introduction\n",
            "Audio guardado: output_Describir_el_valor_empresarial_de_Microsoft_Power_Platform/unidad_1-Introducción.mp3\n",
            "Procesando unidad 2: https://learn.microsoft.com/es-es/training/modules/introduction-power-platform/2-explore-microsoft-power-platform\n"
          ]
        }
      ],
      "source": [
        "#@title Execution\n",
        "import re\n",
        "from typing import List\n",
        "import requests\n",
        "from bs4 import BeautifulSoup\n",
        "from gtts import gTTS\n",
        "from pydub import AudioSegment\n",
        "import os\n",
        "import shutil\n",
        "import zipfile\n",
        "import sys\n",
        "\n",
        "# Define the TextProcessor class for cleaning and structuring text.\n",
        "class TextProcessor:\n",
        "    def __init__(self):\n",
        "        # Patterns for basic text cleanup.\n",
        "        self.cleanup_patterns = [\n",
        "            (r'\\s+', ' '), # Reduce multiple spaces to a single space.\n",
        "            (r'\\n\\s*\\n\\s*\\n+', '\\n\\n'), # Reduce multiple empty lines to a single empty line.\n",
        "            (r'[^\\w\\s\\-.,;:!?¡¿áéíóúñüÁÉÍÓÚÑÜ()[\\]\"\\'/]', ''), # Remove unwanted characters.\n",
        "            (r'\\.{2,}', '.'), # Reduce multiple periods to a single period.\n",
        "            (r'\\?{2,}', '?'), # Reduce multiple question marks to a single question mark.\n",
        "            (r'!{2,}', '!'), # Reduce multiple exclamation marks to a single exclamation mark.\n",
        "        ]\n",
        "        # Phrases to filter out from the text.\n",
        "        self.filter_phrases = [\n",
        "            'skip to main content', 'breadcrumb navigation', 'table of contents',\n",
        "            'in this article', 'next steps', 'feedback', 'was this page helpful',\n",
        "            'submit and view feedback', 'microsoft learn', 'sign in', 'search',\n",
        "            'browse', 'theme', 'light', 'dark', 'high contrast', 'previous unit',\n",
        "            'next unit', 'completed', 'check your knowledge', 'knowledge check'\n",
        "        ]\n",
        "\n",
        "    def clean_and_structure(self, raw_text):\n",
        "        # Main method to clean, filter, and structure the text.\n",
        "        if not raw_text:\n",
        "            return \"\"\n",
        "        text = self._basic_cleanup(raw_text)\n",
        "        text = self._filter_unwanted_content(text)\n",
        "        text = self._structure_for_audio(text)\n",
        "        text = self._normalize_spacing(text)\n",
        "        return text.strip()\n",
        "\n",
        "    def _basic_cleanup(self, text):\n",
        "        # Apply basic cleanup patterns.\n",
        "        for pattern, replacement in self.cleanup_patterns:\n",
        "            text = re.sub(pattern, replacement, text)\n",
        "        return text\n",
        "\n",
        "    def _filter_unwanted_content(self, text):\n",
        "        # Filter out unwanted lines based on phrases and patterns.\n",
        "        lines = text.split('\\n')\n",
        "        filtered_lines = []\n",
        "        for line in lines:\n",
        "            line = line.strip()\n",
        "            line_lower = line.lower()\n",
        "            if len(line) < 3: # Skip very short lines.\n",
        "                continue\n",
        "            should_filter = False\n",
        "            for phrase in self.filter_phrases:\n",
        "                if phrase in line_lower:\n",
        "                    should_filter = True\n",
        "                    break\n",
        "            # Filter lines matching specific patterns (URLs, time durations, step/unit numbers).\n",
        "            if (line_lower.startswith(('http', 'www.', 'mailto:')) or\n",
        "                line_lower.endswith(('min', 'sec', 'hr')) or\n",
        "                re.match(r'^\\d+\\s*(min|sec|hr|minute|second|hour)', line_lower) or\n",
        "                re.match(r'^(step \\d+|unit \\d+|\\d+\\.)$', line_lower)):\n",
        "                should_filter = True\n",
        "            if not should_filter:\n",
        "                filtered_lines.append(line)\n",
        "        return '\\n'.join(filtered_lines)\n",
        "\n",
        "    def _structure_for_audio(self, text):\n",
        "        # Structure text for better audio reading (add periods, handle headings).\n",
        "        lines = text.split('\\n')\n",
        "        structured_lines = []\n",
        "        for line in lines:\n",
        "            line = line.strip()\n",
        "            if not line:\n",
        "                continue\n",
        "            if self._is_heading(line):\n",
        "                structured_lines.append(f\"{line}.\") # Add period to headings.\n",
        "                structured_lines.append(\"\") # Add empty line after headings.\n",
        "            else:\n",
        "                if line and not line[-1] in '.!?':\n",
        "                    line += '.' # Add period if line doesn't end with punctuation.\n",
        "                structured_lines.append(line)\n",
        "        return '\\n'.join(structured_lines)\n",
        "\n",
        "    def _is_heading(self, line):\n",
        "        # Check if a line is likely a heading.\n",
        "        return (len(line) < 100 and # Headings are usually not too long.\n",
        "                not line.endswith(('.', '!', '?', ',', ';', ':')) and # Headings usually don't end with punctuation.\n",
        "                (line.isupper() or line.istitle() or # Check for all caps or title case.\n",
        "                 any(word.isupper() for word in line.split()))) # Check if any word is all caps.\n",
        "\n",
        "    def _normalize_spacing(self, text):\n",
        "        # Normalize spacing within and between lines.\n",
        "        text = re.sub(r' +', ' ', text) # Replace multiple spaces with single space.\n",
        "        text = re.sub(r'\\n\\s*\\n\\s*\\n+', '\\n\\n', text) # Replace multiple empty lines with single empty line.\n",
        "        lines = [line.strip() for line in text.split('\\n')]\n",
        "        return '\\n'.join(lines)\n",
        "\n",
        "    def split_into_chunks(self, text, max_chunk_size=4000):\n",
        "        # Split text into smaller chunks for TTS API limits.\n",
        "        if len(text) <= max_chunk_size:\n",
        "            return [text]\n",
        "        chunks = []\n",
        "        sentences = re.split(r'[.!?]+\\s+', text) # Split text by sentence-ending punctuation.\n",
        "        current_chunk = \"\"\n",
        "        for sentence in sentences:\n",
        "            # If adding the next sentence exceeds chunk size, start a new chunk.\n",
        "            if len(current_chunk) + len(sentence) > max_chunk_size:\n",
        "                if current_chunk:\n",
        "                    chunks.append(current_chunk.strip())\n",
        "                current_chunk = sentence\n",
        "            else:\n",
        "                # Add sentence to current chunk.\n",
        "                if current_chunk:\n",
        "                    current_chunk += \". \" + sentence\n",
        "                else:\n",
        "                    current_chunk = sentence\n",
        "        # Add the last chunk if it's not empty.\n",
        "        if current_chunk:\n",
        "            chunks.append(current_chunk.strip())\n",
        "        return chunks\n",
        "\n",
        "# Function to install necessary dependencies in Colab.\n",
        "def instalar_dependencias():\n",
        "    import sys\n",
        "    !{sys.executable} -m pip install gtts pydub requests beautifulsoup4 pyttsx3\n",
        "    !apt-get install -y ffmpeg espeak\n",
        "\n",
        "# Install dependencies.\n",
        "instalar_dependencias()\n",
        "\n",
        "# Try importing pyttsx3 (offline TTS).\n",
        "try:\n",
        "    import pyttsx3\n",
        "    offline_tts_available = True\n",
        "except ImportError:\n",
        "    offline_tts_available = False\n",
        "\n",
        "# Function to get unit links from the module URL.\n",
        "def get_units_links(url):\n",
        "    response = requests.get(url)\n",
        "    soup = BeautifulSoup(response.content, 'html.parser')\n",
        "    units = []\n",
        "    # Find all links with class 'unit-title'.\n",
        "    for a in soup.find_all('a', class_='unit-title', href=True):\n",
        "        full_url = requests.compat.urljoin(url, a['href'])\n",
        "        if full_url not in units:\n",
        "            units.append(full_url)\n",
        "    return units\n",
        "\n",
        "# Function to extract the title of the page.\n",
        "def extract_title(soup):\n",
        "    # Try different selectors to find the page title.\n",
        "    title_elem = soup.select_one('h1[data-bi-name=\"page-title\"], h1.title, h1, .page-title h1, [data-bi-name=\"page-title\"]')\n",
        "    if title_elem:\n",
        "        return title_elem.get_text().strip()\n",
        "    # Fallback to the HTML <title> tag.\n",
        "    title_tag = soup.find('title')\n",
        "    if title_tag:\n",
        "        return title_tag.get_text().strip()\n",
        "    return \"modulo\" # Default title if none found.\n",
        "\n",
        "# Function to convert text to audio using pyttsx3 (offline).\n",
        "def text_to_audio_offline(text, output_path, language='es', speed=1.0):\n",
        "    engine = pyttsx3.init()\n",
        "    # Configure language/voice if possible.\n",
        "    voices = engine.getProperty('voices')\n",
        "    selected_voice = None\n",
        "    for v in voices:\n",
        "        if language in v.id or language in v.name.lower():\n",
        "            selected_voice = v.id\n",
        "            break\n",
        "    if selected_voice:\n",
        "        engine.setProperty('voice', selected_voice)\n",
        "    engine.setProperty('rate', int(200 * speed)) # Set speech speed.\n",
        "    wav_path = output_path.replace('.mp3', '.wav')\n",
        "    engine.save_to_file(text, wav_path) # Save audio as WAV.\n",
        "    engine.runAndWait()\n",
        "    # Convert WAV to MP3.\n",
        "    audio = AudioSegment.from_wav(wav_path)\n",
        "    audio.export(output_path, format='mp3')\n",
        "    os.remove(wav_path) # Remove the temporary WAV file.\n",
        "\n",
        "# Main processing function.\n",
        "def procesar_modulo(url, language, speed):\n",
        "    units = get_units_links(url)\n",
        "    if not units:\n",
        "        print(\"No se encontraron unidades en el módulo.\")\n",
        "        return None\n",
        "    print(f\"{len(units)} unidades encontradas.\")\n",
        "    # Get module title for output directory name.\n",
        "    response = requests.get(url)\n",
        "    soup = BeautifulSoup(response.content, 'html.parser')\n",
        "    module_title = extract_title(soup)\n",
        "    safe_module_title = module_title.replace(' ', '_').replace('/', '_')\n",
        "    output_dir = f\"output_{safe_module_title}\"\n",
        "    os.makedirs(output_dir, exist_ok=True) # Create output directory.\n",
        "\n",
        "    # Process each unit.\n",
        "    for idx, unit_url in enumerate(units, 1):\n",
        "        print(f\"Procesando unidad {idx}: {unit_url}\")\n",
        "        # Limit to processing only the first unit for testing, remove in production.\n",
        "        # if idx > 1:\n",
        "        #     break\n",
        "        unit_resp = requests.get(unit_url)\n",
        "        unit_soup = BeautifulSoup(unit_resp.content, 'html.parser')\n",
        "        unit_title = extract_title(unit_soup)\n",
        "        safe_title = unit_title.replace(' ', '_').replace('/', '_')\n",
        "\n",
        "        # Extract main content text.\n",
        "        main_content = unit_soup.select_one('main, .content, [role=\"main\"], .main-content, article, .module-content')\n",
        "        if not main_content:\n",
        "            main_content = unit_soup\n",
        "        text = main_content.get_text(separator='\\n')\n",
        "\n",
        "        # Process and clean the extracted text.\n",
        "        processor = TextProcessor()\n",
        "        processed_text = processor.clean_and_structure(text)\n",
        "\n",
        "        # Convert processed text to audio using gTTS (online).\n",
        "        audio_path = os.path.join(output_dir, f\"unidad_{idx}-{safe_title}.mp3\")\n",
        "        tts = gTTS(text=processed_text, lang=language, slow=False)\n",
        "        tts.save(audio_path)\n",
        "        print(f\"Audio guardado: {audio_path}\")\n",
        "\n",
        "    return output_dir # Return the path to the output directory.\n",
        "\n",
        "# Execute the main processing function with input values.\n",
        "dir_modulo = procesar_modulo(url.value, language.value, speed.value)"
      ]
    },
    {
      "cell_type": "markdown",
      "id": "189d3564",
      "metadata": {
        "id": "189d3564"
      },
      "source": [
        "## Download Zip\n",
        "When conversion is finished, download zip file with audio contents"
      ]
    },
    {
      "cell_type": "code",
      "execution_count": 9,
      "id": "b156d77d",
      "metadata": {
        "vscode": {
          "languageId": "python"
        },
        "id": "b156d77d",
        "outputId": "e8ca09be-8def-4f88-faff-6fb80368b322",
        "colab": {
          "base_uri": "https://localhost:8080/",
          "height": 34
        }
      },
      "outputs": [
        {
          "output_type": "stream",
          "name": "stdout",
          "text": [
            "ZIP creado: output.zip\n"
          ]
        },
        {
          "output_type": "display_data",
          "data": {
            "text/plain": [
              "<IPython.core.display.Javascript object>"
            ],
            "application/javascript": [
              "\n",
              "    async function download(id, filename, size) {\n",
              "      if (!google.colab.kernel.accessAllowed) {\n",
              "        return;\n",
              "      }\n",
              "      const div = document.createElement('div');\n",
              "      const label = document.createElement('label');\n",
              "      label.textContent = `Downloading \"${filename}\": `;\n",
              "      div.appendChild(label);\n",
              "      const progress = document.createElement('progress');\n",
              "      progress.max = size;\n",
              "      div.appendChild(progress);\n",
              "      document.body.appendChild(div);\n",
              "\n",
              "      const buffers = [];\n",
              "      let downloaded = 0;\n",
              "\n",
              "      const channel = await google.colab.kernel.comms.open(id);\n",
              "      // Send a message to notify the kernel that we're ready.\n",
              "      channel.send({})\n",
              "\n",
              "      for await (const message of channel.messages) {\n",
              "        // Send a message to notify the kernel that we're ready.\n",
              "        channel.send({})\n",
              "        if (message.buffers) {\n",
              "          for (const buffer of message.buffers) {\n",
              "            buffers.push(buffer);\n",
              "            downloaded += buffer.byteLength;\n",
              "            progress.value = downloaded;\n",
              "          }\n",
              "        }\n",
              "      }\n",
              "      const blob = new Blob(buffers, {type: 'application/binary'});\n",
              "      const a = document.createElement('a');\n",
              "      a.href = window.URL.createObjectURL(blob);\n",
              "      a.download = filename;\n",
              "      div.appendChild(a);\n",
              "      a.click();\n",
              "      div.remove();\n",
              "    }\n",
              "  "
            ]
          },
          "metadata": {}
        },
        {
          "output_type": "display_data",
          "data": {
            "text/plain": [
              "<IPython.core.display.Javascript object>"
            ],
            "application/javascript": [
              "download(\"download_ba423bb6-cdf5-49ac-84b5-e68282e810d7\", \"output.zip\", 12416716)"
            ]
          },
          "metadata": {}
        }
      ],
      "source": [
        "#@title Download\n",
        "# Check if a module directory was successfully created.\n",
        "if dir_modulo:\n",
        "    # Define the path for the output zip file.\n",
        "    zip_path = f\"output.zip\"\n",
        "    # Create a zip file containing the audio files.\n",
        "    with zipfile.ZipFile(zip_path, 'w') as zipf:\n",
        "        # Walk through the output directory and add files to the zip.\n",
        "        for root, _, files in os.walk(dir_modulo):\n",
        "            for file in files:\n",
        "                zipf.write(os.path.join(root, file), arcname=os.path.join(os.path.basename(dir_modulo), file))\n",
        "    print(f\"ZIP creado: {zip_path}\")\n",
        "    # Import the files module for downloading in Colab.\n",
        "    from google.colab import files\n",
        "    # Download the created zip file.\n",
        "    files.download(zip_path)\n",
        "else:\n",
        "    # Print a message if no module was generated.\n",
        "    print(\"No se generó ningún módulo para comprimir.\")"
      ]
    }
  ],
  "metadata": {
    "language_info": {
      "name": "python"
    },
    "colab": {
      "provenance": [],
      "gpuType": "T4",
      "cell_execution_strategy": "setup",
      "include_colab_link": true
    },
    "kernelspec": {
      "name": "python3",
      "display_name": "Python 3"
    },
    "widgets": {
      "application/vnd.jupyter.widget-state+json": {
        "5910bc4ab0e64a279848a1a2b4fcc5ec": {
          "model_module": "@jupyter-widgets/controls",
          "model_name": "TextModel",
          "model_module_version": "1.5.0",
          "state": {
            "_dom_classes": [],
            "_model_module": "@jupyter-widgets/controls",
            "_model_module_version": "1.5.0",
            "_model_name": "TextModel",
            "_view_count": null,
            "_view_module": "@jupyter-widgets/controls",
            "_view_module_version": "1.5.0",
            "_view_name": "TextView",
            "continuous_update": true,
            "description": "URL:",
            "description_tooltip": null,
            "disabled": false,
            "layout": "IPY_MODEL_7665348301f649d4bb31ed4ef0920647",
            "placeholder": "Paste Learn Module URL",
            "style": "IPY_MODEL_63901aaf4b284780af43ccc295e154a3",
            "value": "https://learn.microsoft.com/es-es/training/modules/introduction-power-platform/"
          }
        },
        "7665348301f649d4bb31ed4ef0920647": {
          "model_module": "@jupyter-widgets/base",
          "model_name": "LayoutModel",
          "model_module_version": "1.2.0",
          "state": {
            "_model_module": "@jupyter-widgets/base",
            "_model_module_version": "1.2.0",
            "_model_name": "LayoutModel",
            "_view_count": null,
            "_view_module": "@jupyter-widgets/base",
            "_view_module_version": "1.2.0",
            "_view_name": "LayoutView",
            "align_content": null,
            "align_items": null,
            "align_self": null,
            "border": null,
            "bottom": null,
            "display": null,
            "flex": null,
            "flex_flow": null,
            "grid_area": null,
            "grid_auto_columns": null,
            "grid_auto_flow": null,
            "grid_auto_rows": null,
            "grid_column": null,
            "grid_gap": null,
            "grid_row": null,
            "grid_template_areas": null,
            "grid_template_columns": null,
            "grid_template_rows": null,
            "height": null,
            "justify_content": null,
            "justify_items": null,
            "left": null,
            "margin": null,
            "max_height": null,
            "max_width": null,
            "min_height": null,
            "min_width": null,
            "object_fit": null,
            "object_position": null,
            "order": null,
            "overflow": null,
            "overflow_x": null,
            "overflow_y": null,
            "padding": null,
            "right": null,
            "top": null,
            "visibility": null,
            "width": null
          }
        },
        "63901aaf4b284780af43ccc295e154a3": {
          "model_module": "@jupyter-widgets/controls",
          "model_name": "DescriptionStyleModel",
          "model_module_version": "1.5.0",
          "state": {
            "_model_module": "@jupyter-widgets/controls",
            "_model_module_version": "1.5.0",
            "_model_name": "DescriptionStyleModel",
            "_view_count": null,
            "_view_module": "@jupyter-widgets/base",
            "_view_module_version": "1.2.0",
            "_view_name": "StyleView",
            "description_width": ""
          }
        },
        "5b1ee395df42426fb72ada57676b3ebc": {
          "model_module": "@jupyter-widgets/controls",
          "model_name": "TextModel",
          "model_module_version": "1.5.0",
          "state": {
            "_dom_classes": [],
            "_model_module": "@jupyter-widgets/controls",
            "_model_module_version": "1.5.0",
            "_model_name": "TextModel",
            "_view_count": null,
            "_view_module": "@jupyter-widgets/controls",
            "_view_module_version": "1.5.0",
            "_view_name": "TextView",
            "continuous_update": true,
            "description": "Language:",
            "description_tooltip": null,
            "disabled": false,
            "layout": "IPY_MODEL_6fae1ac382f048f7bda76e88c3862355",
            "placeholder": "​",
            "style": "IPY_MODEL_4da20bfd8b03467dbb5ed8c084a009c5",
            "value": "es"
          }
        },
        "6fae1ac382f048f7bda76e88c3862355": {
          "model_module": "@jupyter-widgets/base",
          "model_name": "LayoutModel",
          "model_module_version": "1.2.0",
          "state": {
            "_model_module": "@jupyter-widgets/base",
            "_model_module_version": "1.2.0",
            "_model_name": "LayoutModel",
            "_view_count": null,
            "_view_module": "@jupyter-widgets/base",
            "_view_module_version": "1.2.0",
            "_view_name": "LayoutView",
            "align_content": null,
            "align_items": null,
            "align_self": null,
            "border": null,
            "bottom": null,
            "display": null,
            "flex": null,
            "flex_flow": null,
            "grid_area": null,
            "grid_auto_columns": null,
            "grid_auto_flow": null,
            "grid_auto_rows": null,
            "grid_column": null,
            "grid_gap": null,
            "grid_row": null,
            "grid_template_areas": null,
            "grid_template_columns": null,
            "grid_template_rows": null,
            "height": null,
            "justify_content": null,
            "justify_items": null,
            "left": null,
            "margin": null,
            "max_height": null,
            "max_width": null,
            "min_height": null,
            "min_width": null,
            "object_fit": null,
            "object_position": null,
            "order": null,
            "overflow": null,
            "overflow_x": null,
            "overflow_y": null,
            "padding": null,
            "right": null,
            "top": null,
            "visibility": null,
            "width": null
          }
        },
        "4da20bfd8b03467dbb5ed8c084a009c5": {
          "model_module": "@jupyter-widgets/controls",
          "model_name": "DescriptionStyleModel",
          "model_module_version": "1.5.0",
          "state": {
            "_model_module": "@jupyter-widgets/controls",
            "_model_module_version": "1.5.0",
            "_model_name": "DescriptionStyleModel",
            "_view_count": null,
            "_view_module": "@jupyter-widgets/base",
            "_view_module_version": "1.2.0",
            "_view_name": "StyleView",
            "description_width": ""
          }
        },
        "8126cf5c2df94868ae6126b6ec065275": {
          "model_module": "@jupyter-widgets/controls",
          "model_name": "FloatSliderModel",
          "model_module_version": "1.5.0",
          "state": {
            "_dom_classes": [],
            "_model_module": "@jupyter-widgets/controls",
            "_model_module_version": "1.5.0",
            "_model_name": "FloatSliderModel",
            "_view_count": null,
            "_view_module": "@jupyter-widgets/controls",
            "_view_module_version": "1.5.0",
            "_view_name": "FloatSliderView",
            "continuous_update": true,
            "description": "Speed:",
            "description_tooltip": null,
            "disabled": false,
            "layout": "IPY_MODEL_8740a4bc4a8e444084d7ba839878cc89",
            "max": 2,
            "min": 0.5,
            "orientation": "horizontal",
            "readout": true,
            "readout_format": ".2f",
            "step": 0.1,
            "style": "IPY_MODEL_e3ad3aa91692447a9da7b742871dda42",
            "value": 1.2
          }
        },
        "8740a4bc4a8e444084d7ba839878cc89": {
          "model_module": "@jupyter-widgets/base",
          "model_name": "LayoutModel",
          "model_module_version": "1.2.0",
          "state": {
            "_model_module": "@jupyter-widgets/base",
            "_model_module_version": "1.2.0",
            "_model_name": "LayoutModel",
            "_view_count": null,
            "_view_module": "@jupyter-widgets/base",
            "_view_module_version": "1.2.0",
            "_view_name": "LayoutView",
            "align_content": null,
            "align_items": null,
            "align_self": null,
            "border": null,
            "bottom": null,
            "display": null,
            "flex": null,
            "flex_flow": null,
            "grid_area": null,
            "grid_auto_columns": null,
            "grid_auto_flow": null,
            "grid_auto_rows": null,
            "grid_column": null,
            "grid_gap": null,
            "grid_row": null,
            "grid_template_areas": null,
            "grid_template_columns": null,
            "grid_template_rows": null,
            "height": null,
            "justify_content": null,
            "justify_items": null,
            "left": null,
            "margin": null,
            "max_height": null,
            "max_width": null,
            "min_height": null,
            "min_width": null,
            "object_fit": null,
            "object_position": null,
            "order": null,
            "overflow": null,
            "overflow_x": null,
            "overflow_y": null,
            "padding": null,
            "right": null,
            "top": null,
            "visibility": null,
            "width": null
          }
        },
        "e3ad3aa91692447a9da7b742871dda42": {
          "model_module": "@jupyter-widgets/controls",
          "model_name": "SliderStyleModel",
          "model_module_version": "1.5.0",
          "state": {
            "_model_module": "@jupyter-widgets/controls",
            "_model_module_version": "1.5.0",
            "_model_name": "SliderStyleModel",
            "_view_count": null,
            "_view_module": "@jupyter-widgets/base",
            "_view_module_version": "1.2.0",
            "_view_name": "StyleView",
            "description_width": "",
            "handle_color": null
          }
        }
      }
    }
  },
  "nbformat": 4,
  "nbformat_minor": 5
}