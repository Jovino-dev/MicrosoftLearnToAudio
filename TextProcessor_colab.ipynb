{
  "cells": [
    {
      "cell_type": "markdown",
      "metadata": {
        "id": "view-in-github",
        "colab_type": "text"
      },
      "source": [
        "<a href=\"https://colab.research.google.com/github/Jovino-dev/MicrosoftLearnToAudio/blob/main/TextProcessor_colab.ipynb\" target=\"_parent\"><img src=\"https://colab.research.google.com/assets/colab-badge.svg\" alt=\"Open In Colab\"/></a>"
      ]
    },
    {
      "cell_type": "markdown",
      "id": "c9c35bdf",
      "metadata": {
        "id": "c9c35bdf"
      },
      "source": [
        "# Audio extraction from Microsoft learn module\n",
        "This notebook allows to convert a full Microsoft learn module to audio"
      ]
    },
    {
      "cell_type": "code",
      "execution_count": 14,
      "id": "e2f4c621",
      "metadata": {
        "vscode": {
          "languageId": "python"
        },
        "id": "e2f4c621",
        "outputId": "b0056659-911d-4178-b50c-977ec84360fa",
        "colab": {
          "base_uri": "https://localhost:8080/",
          "height": 139,
          "referenced_widgets": [
            "8269328181bc449cbc7c724d94d83919",
            "39398a0354e54e4594c5e01d4d169ad4",
            "12fcc91fc8a34cabbe903940bc08ab4e",
            "c30094047bf74922b7cc065ac8a6917b",
            "fabbd9f6e37b485c837ab79fd9eedc71",
            "21ba7127be5d46b6923486c27d0d25a0",
            "d0dc795161614c7898ce36af6f02a2be",
            "c5f70f9de0fe4b64975c0c1e6973db7b",
            "588e1f5a06ad42638e31db425e1f9f76",
            "92d9fe6a1e56470ab293728a1b7b4829",
            "140c3872dad5475eb307502b0fc1dac0",
            "a6ea686003a841bea17ab6b837287309"
          ]
        }
      },
      "outputs": [
        {
          "output_type": "display_data",
          "data": {
            "text/plain": [
              "Text(value='', description='URL:', placeholder='Pega la URL del módulo de Microsoft Learn')"
            ],
            "application/vnd.jupyter.widget-view+json": {
              "version_major": 2,
              "version_minor": 0,
              "model_id": "8269328181bc449cbc7c724d94d83919"
            }
          },
          "metadata": {}
        },
        {
          "output_type": "display_data",
          "data": {
            "text/plain": [
              "Text(value='es', description='Idioma:')"
            ],
            "application/vnd.jupyter.widget-view+json": {
              "version_major": 2,
              "version_minor": 0,
              "model_id": "c30094047bf74922b7cc065ac8a6917b"
            }
          },
          "metadata": {}
        },
        {
          "output_type": "display_data",
          "data": {
            "text/plain": [
              "FloatSlider(value=1.0, description='Velocidad:', max=2.0, min=0.5)"
            ],
            "application/vnd.jupyter.widget-view+json": {
              "version_major": 2,
              "version_minor": 0,
              "model_id": "d0dc795161614c7898ce36af6f02a2be"
            }
          },
          "metadata": {}
        },
        {
          "output_type": "display_data",
          "data": {
            "text/plain": [
              "Dropdown(description='Voz:', options=('online', 'offline'), value='online')"
            ],
            "application/vnd.jupyter.widget-view+json": {
              "version_major": 2,
              "version_minor": 0,
              "model_id": "92d9fe6a1e56470ab293728a1b7b4829"
            }
          },
          "metadata": {}
        }
      ],
      "source": [
        "#@ Inputs para argumentos principales\n",
        "definir_inputs = True\n",
        "try:\n",
        "    from google.colab import widgets\n",
        "    from google.colab import output as colab_output\n",
        "    from google.colab import files\n",
        "    from IPython.display import display\n",
        "    import ipywidgets as widgets\n",
        "except ImportError:\n",
        "    definir_inputs = False\n",
        "\n",
        "if definir_inputs:\n",
        "    url = widgets.Text(\n",
        "        value='',\n",
        "        placeholder='Pega la URL del módulo de Microsoft Learn',\n",
        "        description='URL:',\n",
        "        disabled=False\n",
        "    )\n",
        "    language = widgets.Text(value='es', description='Idioma:')\n",
        "    speed = widgets.FloatSlider(value=1.0, min=0.5, max=2.0, step=0.1, description='Velocidad:')\n",
        "    voice = widgets.Dropdown(options=['online', 'offline'], value='online', description='Voz:')\n",
        "    display(url, language, speed, voice)\n",
        "else:\n",
        "    url = input('URL del módulo: ')\n",
        "    language = input('Idioma (ej: es): ')\n",
        "    speed = float(input('Velocidad (0.5-2.0): '))\n",
        "    voice = input('Voz (online/offline): ')\n"
      ]
    },
    {
      "cell_type": "code",
      "execution_count": 13,
      "id": "e0730180",
      "metadata": {
        "vscode": {
          "languageId": "python"
        },
        "id": "e0730180",
        "outputId": "b4e2e423-0713-4e7e-d568-c5c5969becb2",
        "colab": {
          "base_uri": "https://localhost:8080/",
          "height": 139,
          "referenced_widgets": [
            "b1a4999de944436d93e927e22d143879",
            "1e6db0ed1a5b43b3b8878a13aae0592b",
            "891a55a801864de689329360f82a40cc",
            "c69e4af7b173481a8c84f0eee1056449",
            "142157f767074624a6a985925c169688",
            "63b9ceb74b20446485889df2b4f3d60c",
            "b91e6c46a442420598efac49e1475442",
            "16bba5cc6e1a4d5bbeec1ff1d4b4a7e0",
            "72ce00de10144c8c8f26172d27254f4d",
            "757fbf53c8c14d0e8ec7a0851953eca6",
            "7005ed0895ab4c47a767af4956877055",
            "ff62d5c79dc14d21849822a887b8f0d9"
          ]
        }
      },
      "outputs": [
        {
          "output_type": "display_data",
          "data": {
            "text/plain": [
              "Text(value='', description='URL:', placeholder='Pega la URL del módulo de Microsoft Learn')"
            ],
            "application/vnd.jupyter.widget-view+json": {
              "version_major": 2,
              "version_minor": 0,
              "model_id": "b1a4999de944436d93e927e22d143879"
            }
          },
          "metadata": {}
        },
        {
          "output_type": "display_data",
          "data": {
            "text/plain": [
              "Text(value='es', description='Idioma:')"
            ],
            "application/vnd.jupyter.widget-view+json": {
              "version_major": 2,
              "version_minor": 0,
              "model_id": "c69e4af7b173481a8c84f0eee1056449"
            }
          },
          "metadata": {}
        },
        {
          "output_type": "display_data",
          "data": {
            "text/plain": [
              "FloatSlider(value=1.0, description='Velocidad:', max=2.0, min=0.5)"
            ],
            "application/vnd.jupyter.widget-view+json": {
              "version_major": 2,
              "version_minor": 0,
              "model_id": "b91e6c46a442420598efac49e1475442"
            }
          },
          "metadata": {}
        },
        {
          "output_type": "display_data",
          "data": {
            "text/plain": [
              "Dropdown(description='Voz:', options=('online', 'offline'), value='online')"
            ],
            "application/vnd.jupyter.widget-view+json": {
              "version_major": 2,
              "version_minor": 0,
              "model_id": "757fbf53c8c14d0e8ec7a0851953eca6"
            }
          },
          "metadata": {}
        }
      ],
      "source": [
        "# Importar librerías necesarias\n",
        "import re\n",
        "from typing import List\n",
        "\n",
        "\n",
        "# Definir la clase TextProcessor\n",
        "class TextProcessor:\n",
        "    def __init__(self):\n",
        "        self.cleanup_patterns = [\n",
        "            (r'\\s+', ' '),\n",
        "            (r'\\n\\s*\\n\\s*\\n+', '\\n\\n'),\n",
        "            (r'[^\\w\\s\\-.,;:!?¡¿áéíóúñüÁÉÍÓÚÑÜ()[\\]\"\\'/]', ''),\n",
        "            (r'\\.{2,}', '.'),\n",
        "            (r'\\?{2,}', '?'),\n",
        "            (r'!{2,}', '!'),\n",
        "        ]\n",
        "        self.filter_phrases = [\n",
        "            'skip to main content', 'breadcrumb navigation', 'table of contents',\n",
        "            'in this article', 'next steps', 'feedback', 'was this page helpful',\n",
        "            'submit and view feedback', 'microsoft learn', 'sign in', 'search',\n",
        "            'browse', 'theme', 'light', 'dark', 'high contrast', 'previous unit',\n",
        "            'next unit', 'completed', 'check your knowledge', 'knowledge check'\n",
        "        ]\n",
        "\n",
        "    def clean_and_structure(self, raw_text):\n",
        "        if not raw_text:\n",
        "            return \"\"\n",
        "        text = self._basic_cleanup(raw_text)\n",
        "        text = self._filter_unwanted_content(text)\n",
        "        text = self._structure_for_audio(text)\n",
        "        text = self._normalize_spacing(text)\n",
        "        return text.strip()\n",
        "\n",
        "    def _basic_cleanup(self, text):\n",
        "        for pattern, replacement in self.cleanup_patterns:\n",
        "            text = re.sub(pattern, replacement, text)\n",
        "        return text\n",
        "\n",
        "    def _filter_unwanted_content(self, text):\n",
        "        lines = text.split('\\n')\n",
        "        filtered_lines = []\n",
        "        for line in lines:\n",
        "            line = line.strip()\n",
        "            line_lower = line.lower()\n",
        "            if len(line) < 3:\n",
        "                continue\n",
        "            should_filter = False\n",
        "            for phrase in self.filter_phrases:\n",
        "                if phrase in line_lower:\n",
        "                    should_filter = True\n",
        "                    break\n",
        "            if (line_lower.startswith(('http', 'www.', 'mailto:')) or\n",
        "                line_lower.endswith(('min', 'sec', 'hr')) or\n",
        "                re.match(r'^\\d+\\s*(min|sec|hr|minute|second|hour)', line_lower) or\n",
        "                re.match(r'^(step \\d+|unit \\d+|\\d+\\.)$', line_lower)):\n",
        "                should_filter = True\n",
        "            if not should_filter:\n",
        "                filtered_lines.append(line)\n",
        "        return '\\n'.join(filtered_lines)\n",
        "\n",
        "    def _structure_for_audio(self, text):\n",
        "        lines = text.split('\\n')\n",
        "        structured_lines = []\n",
        "        for line in lines:\n",
        "            line = line.strip()\n",
        "            if not line:\n",
        "                continue\n",
        "            if self._is_heading(line):\n",
        "                structured_lines.append(f\"{line}.\")\n",
        "                structured_lines.append(\"\")\n",
        "            else:\n",
        "                if line and not line[-1] in '.!?':\n",
        "                    line += '.'\n",
        "                structured_lines.append(line)\n",
        "        return '\\n'.join(structured_lines)\n",
        "\n",
        "    def _is_heading(self, line):\n",
        "        return (len(line) < 100 and\n",
        "                not line.endswith(('.', '!', '?', ',', ';', ':')) and\n",
        "                (line.isupper() or line.istitle() or\n",
        "                 any(word.isupper() for word in line.split())))\n",
        "\n",
        "    def _normalize_spacing(self, text):\n",
        "        text = re.sub(r' +', ' ', text)\n",
        "        text = re.sub(r'\\n\\s*\\n\\s*\\n+', '\\n\\n', text)\n",
        "        lines = [line.strip() for line in text.split('\\n')]\n",
        "        return '\\n'.join(lines)\n",
        "\n",
        "    def split_into_chunks(self, text, max_chunk_size=4000):\n",
        "        if len(text) <= max_chunk_size:\n",
        "            return [text]\n",
        "        chunks = []\n",
        "        sentences = re.split(r'[.!?]+\\s+', text)\n",
        "        current_chunk = \"\"\n",
        "        for sentence in sentences:\n",
        "            if len(current_chunk) + len(sentence) > max_chunk_size:\n",
        "                if current_chunk:\n",
        "                    chunks.append(current_chunk.strip())\n",
        "                current_chunk = sentence\n",
        "            else:\n",
        "                if current_chunk:\n",
        "                    current_chunk += \". \" + sentence\n",
        "                else:\n",
        "                    current_chunk = sentence\n",
        "        if current_chunk:\n",
        "            chunks.append(current_chunk.strip())\n",
        "        return chunks\n",
        "\n",
        "  # Inputs para argumentos principales\n",
        "definir_inputs = True\n",
        "try:\n",
        "    from google.colab import widgets\n",
        "    from google.colab import output as colab_output\n",
        "    from google.colab import files\n",
        "    from IPython.display import display\n",
        "    import ipywidgets as widgets\n",
        "except ImportError:\n",
        "    definir_inputs = False\n",
        "\n",
        "if definir_inputs:\n",
        "    url = widgets.Text(\n",
        "        value='',\n",
        "        placeholder='Pega la URL del módulo de Microsoft Learn',\n",
        "        description='URL:',\n",
        "        disabled=False\n",
        "    )\n",
        "    language = widgets.Text(value='es', description='Idioma:')\n",
        "    speed = widgets.FloatSlider(value=1.0, min=0.5, max=2.0, step=0.1, description='Velocidad:')\n",
        "    voice = widgets.Dropdown(options=['online', 'offline'], value='online', description='Voz:')\n",
        "    display(url, language, speed, voice)\n",
        "else:\n",
        "    url = input('URL del módulo: ')\n",
        "    language = input('Idioma (ej: es): ')\n",
        "    speed = float(input('Velocidad (0.5-2.0): '))\n",
        "    voice = input('Voz (online/offline): ')\n"
      ]
    },
    {
      "cell_type": "markdown",
      "id": "230a77c2",
      "metadata": {
        "id": "230a77c2"
      },
      "source": [
        "## Parámetros de entrada\n",
        "Introduce la URL del módulo, el idioma, la velocidad y el tipo de voz para el procesamiento."
      ]
    },
    {
      "cell_type": "markdown",
      "id": "06c3c23e",
      "metadata": {
        "id": "06c3c23e"
      },
      "source": [
        "## Descargar y procesar las unidades del módulo\n",
        "Esta celda descarga las unidades, procesa el texto y genera los audios."
      ]
    },
    {
      "cell_type": "code",
      "execution_count": 10,
      "id": "d041e3f1",
      "metadata": {
        "vscode": {
          "languageId": "python"
        },
        "id": "d041e3f1",
        "outputId": "7e793486-eb84-4f3d-d2c8-1fde7dffddf3",
        "colab": {
          "base_uri": "https://localhost:8080/"
        }
      },
      "outputs": [
        {
          "output_type": "stream",
          "name": "stdout",
          "text": [
            "Requirement already satisfied: gtts in /usr/local/lib/python3.11/dist-packages (2.5.4)\n",
            "Requirement already satisfied: pydub in /usr/local/lib/python3.11/dist-packages (0.25.1)\n",
            "Requirement already satisfied: requests in /usr/local/lib/python3.11/dist-packages (2.32.3)\n",
            "Requirement already satisfied: beautifulsoup4 in /usr/local/lib/python3.11/dist-packages (4.13.4)\n",
            "Requirement already satisfied: pyttsx3 in /usr/local/lib/python3.11/dist-packages (2.98)\n",
            "Requirement already satisfied: click<8.2,>=7.1 in /usr/local/lib/python3.11/dist-packages (from gtts) (8.1.8)\n",
            "Requirement already satisfied: charset-normalizer<4,>=2 in /usr/local/lib/python3.11/dist-packages (from requests) (3.4.2)\n",
            "Requirement already satisfied: idna<4,>=2.5 in /usr/local/lib/python3.11/dist-packages (from requests) (3.10)\n",
            "Requirement already satisfied: urllib3<3,>=1.21.1 in /usr/local/lib/python3.11/dist-packages (from requests) (2.4.0)\n",
            "Requirement already satisfied: certifi>=2017.4.17 in /usr/local/lib/python3.11/dist-packages (from requests) (2025.4.26)\n",
            "Requirement already satisfied: soupsieve>1.2 in /usr/local/lib/python3.11/dist-packages (from beautifulsoup4) (2.7)\n",
            "Requirement already satisfied: typing-extensions>=4.0.0 in /usr/local/lib/python3.11/dist-packages (from beautifulsoup4) (4.14.0)\n",
            "Reading package lists... Done\n",
            "Building dependency tree... Done\n",
            "Reading state information... Done\n",
            "espeak is already the newest version (1.48.15+dfsg-3).\n",
            "ffmpeg is already the newest version (7:4.4.2-0ubuntu0.22.04.1).\n",
            "0 upgraded, 0 newly installed, 0 to remove and 35 not upgraded.\n",
            "13 unidades encontradas.\n",
            "Procesando unidad 1: https://learn.microsoft.com/es-es/training/modules/introduction-power-platform/1-introduction\n",
            "Audio guardado: output_Describir_el_valor_empresarial_de_Microsoft_Power_Platform/unidad_1-Introducción.mp3\n",
            "Procesando unidad 2: https://learn.microsoft.com/es-es/training/modules/introduction-power-platform/2-explore-microsoft-power-platform\n",
            "Audio guardado: output_Describir_el_valor_empresarial_de_Microsoft_Power_Platform/unidad_2-Explorar_Microsoft_Power_Platform.mp3\n",
            "Procesando unidad 3: https://learn.microsoft.com/es-es/training/modules/introduction-power-platform/3-describe-business-value-power-platform\n",
            "Audio guardado: output_Describir_el_valor_empresarial_de_Microsoft_Power_Platform/unidad_3-Describir_el_valor_empresarial_de_Power_Platform.mp3\n",
            "Procesando unidad 4: https://learn.microsoft.com/es-es/training/modules/introduction-power-platform/4-explore-connectors-microsoft-dataverse\n",
            "Audio guardado: output_Describir_el_valor_empresarial_de_Microsoft_Power_Platform/unidad_4-Explorar_conectores_y_Microsoft_Dataverse.mp3\n",
            "Procesando unidad 5: https://learn.microsoft.com/es-es/training/modules/introduction-power-platform/5-use-artificial-intelligence-increase-productivity\n",
            "Audio guardado: output_Describir_el_valor_empresarial_de_Microsoft_Power_Platform/unidad_5-Utilizar_la_inteligencia_artificial_para_aumentar_la_productividad.mp3\n",
            "Procesando unidad 6: https://learn.microsoft.com/es-es/training/modules/introduction-power-platform/6-explore-business-value-power-fx\n",
            "Audio guardado: output_Describir_el_valor_empresarial_de_Microsoft_Power_Platform/unidad_6-Explorar_el_valor_empresarial_de_Power_Fx.mp3\n",
            "Procesando unidad 7: https://learn.microsoft.com/es-es/training/modules/introduction-power-platform/7-describe-how-power-platform-works-microsoft-365-apps-services\n",
            "Audio guardado: output_Describir_el_valor_empresarial_de_Microsoft_Power_Platform/unidad_7-Describir_cómo_funciona_Power_Platform_junto_con_las_aplicaciones_y_los_servicios_de_Microsoft_365.mp3\n",
            "Procesando unidad 8: https://learn.microsoft.com/es-es/training/modules/introduction-power-platform/8-explore-how-power-platform-works-microsoft-teams\n",
            "Audio guardado: output_Describir_el_valor_empresarial_de_Microsoft_Power_Platform/unidad_8-Descubrir_cómo_funciona_Power_Platform_con_Microsoft_Teams.mp3\n",
            "Procesando unidad 9: https://learn.microsoft.com/es-es/training/modules/introduction-power-platform/9-describe-how-power-platform-works-microsoft-dynamics-365-apps\n",
            "Audio guardado: output_Describir_el_valor_empresarial_de_Microsoft_Power_Platform/unidad_9-Describir_cómo_funciona_Power_Platform_junto_con_las_aplicaciones_de_Microsoft_Dynamics_365.mp3\n",
            "Procesando unidad 10: https://learn.microsoft.com/es-es/training/modules/introduction-power-platform/10-explore-how-microsoft-power-platform-apps-work-together\n",
            "Audio guardado: output_Describir_el_valor_empresarial_de_Microsoft_Power_Platform/unidad_10-Descubrir_cómo_se_utilizan_las_aplicaciones_de_Microsoft_Power_Platform_de_forma_colaborativa.mp3\n",
            "Procesando unidad 11: https://learn.microsoft.com/es-es/training/modules/introduction-power-platform/11-describe-how-power-platform-solutions-consume-microsoft-azure-services\n",
            "Audio guardado: output_Describir_el_valor_empresarial_de_Microsoft_Power_Platform/unidad_11-Describir_lo_que_hacen_las_soluciones_de_Power_Platform_para_consumir_los_servicios_de_Microsoft_Azure.mp3\n",
            "Procesando unidad 12: https://learn.microsoft.com/es-es/training/modules/introduction-power-platform/12-knowledge-check\n",
            "Audio guardado: output_Describir_el_valor_empresarial_de_Microsoft_Power_Platform/unidad_12-Valoración_del_módulo.mp3\n",
            "Procesando unidad 13: https://learn.microsoft.com/es-es/training/modules/introduction-power-platform/13-summary-resources\n",
            "Audio guardado: output_Describir_el_valor_empresarial_de_Microsoft_Power_Platform/unidad_13-Resumen_y_recursos.mp3\n"
          ]
        }
      ],
      "source": [
        "# Instalar dependencias necesarias para Colab\n",
        "def instalar_dependencias():\n",
        "    import sys\n",
        "    !{sys.executable} -m pip install gtts pydub requests beautifulsoup4 pyttsx3\n",
        "    !apt-get install -y ffmpeg espeak\n",
        "\n",
        "instalar_dependencias()\n",
        "\n",
        "import requests\n",
        "from bs4 import BeautifulSoup\n",
        "from gtts import gTTS\n",
        "from pydub import AudioSegment\n",
        "import os\n",
        "import shutil\n",
        "import zipfile\n",
        "import sys\n",
        "\n",
        "# Intentar importar pyttsx3 (offline)\n",
        "try:\n",
        "    import pyttsx3\n",
        "    offline_tts_available = True\n",
        "except ImportError:\n",
        "    offline_tts_available = False\n",
        "\n",
        "# Función para obtener enlaces de unidades (class='unit-title')\n",
        "def get_units_links(url):\n",
        "    response = requests.get(url)\n",
        "    soup = BeautifulSoup(response.content, 'html.parser')\n",
        "    units = []\n",
        "    for a in soup.find_all('a', class_='unit-title', href=True):\n",
        "        full_url = requests.compat.urljoin(url, a['href'])\n",
        "        if full_url not in units:\n",
        "            units.append(full_url)\n",
        "    return units\n",
        "\n",
        "# Función para extraer el título de la página\n",
        "def extract_title(soup):\n",
        "    title_elem = soup.select_one('h1[data-bi-name=\"page-title\"], h1.title, h1, .page-title h1, [data-bi-name=\"page-title\"]')\n",
        "    if title_elem:\n",
        "        return title_elem.get_text().strip()\n",
        "    title_tag = soup.find('title')\n",
        "    if title_tag:\n",
        "        return title_tag.get_text().strip()\n",
        "    return \"modulo\"\n",
        "\n",
        "# Conversión a audio usando pyttsx3 (offline)\n",
        "def text_to_audio_offline(text, output_path, language='es', speed=1.0):\n",
        "    engine = pyttsx3.init()\n",
        "    # Configurar idioma/voz si es posible\n",
        "    voices = engine.getProperty('voices')\n",
        "    selected_voice = None\n",
        "    for v in voices:\n",
        "        if language in v.id or language in v.name.lower():\n",
        "            selected_voice = v.id\n",
        "            break\n",
        "    if selected_voice:\n",
        "        engine.setProperty('voice', selected_voice)\n",
        "    engine.setProperty('rate', int(200 * speed))\n",
        "    wav_path = output_path.replace('.mp3', '.wav')\n",
        "    engine.save_to_file(text, wav_path)\n",
        "    engine.runAndWait()\n",
        "    # Convertir a mp3\n",
        "    audio = AudioSegment.from_wav(wav_path)\n",
        "    audio.export(output_path, format='mp3')\n",
        "    os.remove(wav_path)\n",
        "\n",
        "# Procesamiento principal\n",
        "def procesar_modulo(url, language, speed, voice):\n",
        "    units = get_units_links(url)\n",
        "    if not units:\n",
        "        print(\"No se encontraron unidades en el módulo.\")\n",
        "        return None\n",
        "    print(f\"{len(units)} unidades encontradas.\")\n",
        "    # Obtener nombre del módulo\n",
        "    response = requests.get(url)\n",
        "    soup = BeautifulSoup(response.content, 'html.parser')\n",
        "    module_title = extract_title(soup)\n",
        "    safe_module_title = module_title.replace(' ', '_').replace('/', '_')\n",
        "    output_dir = f\"output_{safe_module_title}\"\n",
        "    os.makedirs(output_dir, exist_ok=True)\n",
        "    for idx, unit_url in enumerate(units, 1):\n",
        "        print(f\"Procesando unidad {idx}: {unit_url}\")\n",
        "        unit_resp = requests.get(unit_url)\n",
        "        unit_soup = BeautifulSoup(unit_resp.content, 'html.parser')\n",
        "        unit_title = extract_title(unit_soup)\n",
        "        safe_title = unit_title.replace(' ', '_').replace('/', '_')\n",
        "        # Extraer texto principal\n",
        "        main_content = unit_soup.select_one('main, .content, [role=\"main\"], .main-content, article, .module-content')\n",
        "        if not main_content:\n",
        "            main_content = unit_soup\n",
        "        text = main_content.get_text(separator='\\n')\n",
        "        processor = TextProcessor()\n",
        "        processed_text = processor.clean_and_structure(text)\n",
        "        # Convertir a audio\n",
        "        audio_path = os.path.join(output_dir, f\"unidad_{idx}-{safe_title}.mp3\")\n",
        "        if voice == 'offline' and offline_tts_available:\n",
        "            text_to_audio_offline(processed_text, audio_path, language=language, speed=speed)\n",
        "        else:\n",
        "            tts = gTTS(text=processed_text, lang=language, slow=False)\n",
        "            tts.save(audio_path)\n",
        "        print(f\"Audio guardado: {audio_path}\")\n",
        "    return output_dir\n",
        "\n",
        "# Ejecutar procesamiento\n",
        "dir_modulo = procesar_modulo(url.value if definir_inputs else url, language.value if definir_inputs else language, speed.value if definir_inputs else speed, voice.value if definir_inputs else voice)\n"
      ]
    },
    {
      "cell_type": "markdown",
      "id": "189d3564",
      "metadata": {
        "id": "189d3564"
      },
      "source": [
        "## Descargar el módulo como ZIP\n",
        "Al finalizar, descarga todos los audios en un archivo comprimido."
      ]
    },
    {
      "cell_type": "code",
      "execution_count": 9,
      "id": "b156d77d",
      "metadata": {
        "vscode": {
          "languageId": "python"
        },
        "id": "b156d77d",
        "outputId": "92d38a28-efec-4427-d943-e9225f1a98ce",
        "colab": {
          "base_uri": "https://localhost:8080/",
          "height": 34
        }
      },
      "outputs": [
        {
          "output_type": "stream",
          "name": "stdout",
          "text": [
            "ZIP creado: output_Describir_el_valor_empresarial_de_Microsoft_Power_Platform.zip\n"
          ]
        },
        {
          "output_type": "display_data",
          "data": {
            "text/plain": [
              "<IPython.core.display.Javascript object>"
            ],
            "application/javascript": [
              "\n",
              "    async function download(id, filename, size) {\n",
              "      if (!google.colab.kernel.accessAllowed) {\n",
              "        return;\n",
              "      }\n",
              "      const div = document.createElement('div');\n",
              "      const label = document.createElement('label');\n",
              "      label.textContent = `Downloading \"${filename}\": `;\n",
              "      div.appendChild(label);\n",
              "      const progress = document.createElement('progress');\n",
              "      progress.max = size;\n",
              "      div.appendChild(progress);\n",
              "      document.body.appendChild(div);\n",
              "\n",
              "      const buffers = [];\n",
              "      let downloaded = 0;\n",
              "\n",
              "      const channel = await google.colab.kernel.comms.open(id);\n",
              "      // Send a message to notify the kernel that we're ready.\n",
              "      channel.send({})\n",
              "\n",
              "      for await (const message of channel.messages) {\n",
              "        // Send a message to notify the kernel that we're ready.\n",
              "        channel.send({})\n",
              "        if (message.buffers) {\n",
              "          for (const buffer of message.buffers) {\n",
              "            buffers.push(buffer);\n",
              "            downloaded += buffer.byteLength;\n",
              "            progress.value = downloaded;\n",
              "          }\n",
              "        }\n",
              "      }\n",
              "      const blob = new Blob(buffers, {type: 'application/binary'});\n",
              "      const a = document.createElement('a');\n",
              "      a.href = window.URL.createObjectURL(blob);\n",
              "      a.download = filename;\n",
              "      div.appendChild(a);\n",
              "      a.click();\n",
              "      div.remove();\n",
              "    }\n",
              "  "
            ]
          },
          "metadata": {}
        },
        {
          "output_type": "display_data",
          "data": {
            "text/plain": [
              "<IPython.core.display.Javascript object>"
            ],
            "application/javascript": [
              "download(\"download_d6e7db54-8181-4678-9561-12312a58b486\", \"output_Describir_el_valor_empresarial_de_Microsoft_Power_Platform.zip\", 40085)"
            ]
          },
          "metadata": {}
        }
      ],
      "source": [
        "# Crear y descargar ZIP del módulo\n",
        "if dir_modulo:\n",
        "    zip_path = f\"output.zip\"\n",
        "    with zipfile.ZipFile(zip_path, 'w') as zipf:\n",
        "        for root, _, files in os.walk(dir_modulo):\n",
        "            for file in files:\n",
        "                zipf.write(os.path.join(root, file), arcname=os.path.join(os.path.basename(dir_modulo), file))\n",
        "    print(f\"ZIP creado: {zip_path}\")\n",
        "    from google.colab import files\n",
        "    files.download(zip_path)\n",
        "else:\n",
        "    print(\"No se generó ningún módulo para comprimir.\")\n"
      ]
    }
  ],
  "metadata": {
    "language_info": {
      "name": "python"
    },
    "colab": {
      "provenance": [],
      "gpuType": "T4",
      "cell_execution_strategy": "setup",
      "include_colab_link": true
    },
    "kernelspec": {
      "name": "python3",
      "display_name": "Python 3"
    },
    "accelerator": "GPU",
    "widgets": {
      "application/vnd.jupyter.widget-state+json": {
        "8269328181bc449cbc7c724d94d83919": {
          "model_module": "@jupyter-widgets/controls",
          "model_name": "TextModel",
          "model_module_version": "1.5.0",
          "state": {
            "_dom_classes": [],
            "_model_module": "@jupyter-widgets/controls",
            "_model_module_version": "1.5.0",
            "_model_name": "TextModel",
            "_view_count": null,
            "_view_module": "@jupyter-widgets/controls",
            "_view_module_version": "1.5.0",
            "_view_name": "TextView",
            "continuous_update": true,
            "description": "URL:",
            "description_tooltip": null,
            "disabled": false,
            "layout": "IPY_MODEL_39398a0354e54e4594c5e01d4d169ad4",
            "placeholder": "Pega la URL del módulo de Microsoft Learn",
            "style": "IPY_MODEL_12fcc91fc8a34cabbe903940bc08ab4e",
            "value": ""
          }
        },
        "39398a0354e54e4594c5e01d4d169ad4": {
          "model_module": "@jupyter-widgets/base",
          "model_name": "LayoutModel",
          "model_module_version": "1.2.0",
          "state": {
            "_model_module": "@jupyter-widgets/base",
            "_model_module_version": "1.2.0",
            "_model_name": "LayoutModel",
            "_view_count": null,
            "_view_module": "@jupyter-widgets/base",
            "_view_module_version": "1.2.0",
            "_view_name": "LayoutView",
            "align_content": null,
            "align_items": null,
            "align_self": null,
            "border": null,
            "bottom": null,
            "display": null,
            "flex": null,
            "flex_flow": null,
            "grid_area": null,
            "grid_auto_columns": null,
            "grid_auto_flow": null,
            "grid_auto_rows": null,
            "grid_column": null,
            "grid_gap": null,
            "grid_row": null,
            "grid_template_areas": null,
            "grid_template_columns": null,
            "grid_template_rows": null,
            "height": null,
            "justify_content": null,
            "justify_items": null,
            "left": null,
            "margin": null,
            "max_height": null,
            "max_width": null,
            "min_height": null,
            "min_width": null,
            "object_fit": null,
            "object_position": null,
            "order": null,
            "overflow": null,
            "overflow_x": null,
            "overflow_y": null,
            "padding": null,
            "right": null,
            "top": null,
            "visibility": null,
            "width": null
          }
        },
        "12fcc91fc8a34cabbe903940bc08ab4e": {
          "model_module": "@jupyter-widgets/controls",
          "model_name": "DescriptionStyleModel",
          "model_module_version": "1.5.0",
          "state": {
            "_model_module": "@jupyter-widgets/controls",
            "_model_module_version": "1.5.0",
            "_model_name": "DescriptionStyleModel",
            "_view_count": null,
            "_view_module": "@jupyter-widgets/base",
            "_view_module_version": "1.2.0",
            "_view_name": "StyleView",
            "description_width": ""
          }
        },
        "c30094047bf74922b7cc065ac8a6917b": {
          "model_module": "@jupyter-widgets/controls",
          "model_name": "TextModel",
          "model_module_version": "1.5.0",
          "state": {
            "_dom_classes": [],
            "_model_module": "@jupyter-widgets/controls",
            "_model_module_version": "1.5.0",
            "_model_name": "TextModel",
            "_view_count": null,
            "_view_module": "@jupyter-widgets/controls",
            "_view_module_version": "1.5.0",
            "_view_name": "TextView",
            "continuous_update": true,
            "description": "Idioma:",
            "description_tooltip": null,
            "disabled": false,
            "layout": "IPY_MODEL_fabbd9f6e37b485c837ab79fd9eedc71",
            "placeholder": "​",
            "style": "IPY_MODEL_21ba7127be5d46b6923486c27d0d25a0",
            "value": "es"
          }
        },
        "fabbd9f6e37b485c837ab79fd9eedc71": {
          "model_module": "@jupyter-widgets/base",
          "model_name": "LayoutModel",
          "model_module_version": "1.2.0",
          "state": {
            "_model_module": "@jupyter-widgets/base",
            "_model_module_version": "1.2.0",
            "_model_name": "LayoutModel",
            "_view_count": null,
            "_view_module": "@jupyter-widgets/base",
            "_view_module_version": "1.2.0",
            "_view_name": "LayoutView",
            "align_content": null,
            "align_items": null,
            "align_self": null,
            "border": null,
            "bottom": null,
            "display": null,
            "flex": null,
            "flex_flow": null,
            "grid_area": null,
            "grid_auto_columns": null,
            "grid_auto_flow": null,
            "grid_auto_rows": null,
            "grid_column": null,
            "grid_gap": null,
            "grid_row": null,
            "grid_template_areas": null,
            "grid_template_columns": null,
            "grid_template_rows": null,
            "height": null,
            "justify_content": null,
            "justify_items": null,
            "left": null,
            "margin": null,
            "max_height": null,
            "max_width": null,
            "min_height": null,
            "min_width": null,
            "object_fit": null,
            "object_position": null,
            "order": null,
            "overflow": null,
            "overflow_x": null,
            "overflow_y": null,
            "padding": null,
            "right": null,
            "top": null,
            "visibility": null,
            "width": null
          }
        },
        "21ba7127be5d46b6923486c27d0d25a0": {
          "model_module": "@jupyter-widgets/controls",
          "model_name": "DescriptionStyleModel",
          "model_module_version": "1.5.0",
          "state": {
            "_model_module": "@jupyter-widgets/controls",
            "_model_module_version": "1.5.0",
            "_model_name": "DescriptionStyleModel",
            "_view_count": null,
            "_view_module": "@jupyter-widgets/base",
            "_view_module_version": "1.2.0",
            "_view_name": "StyleView",
            "description_width": ""
          }
        },
        "d0dc795161614c7898ce36af6f02a2be": {
          "model_module": "@jupyter-widgets/controls",
          "model_name": "FloatSliderModel",
          "model_module_version": "1.5.0",
          "state": {
            "_dom_classes": [],
            "_model_module": "@jupyter-widgets/controls",
            "_model_module_version": "1.5.0",
            "_model_name": "FloatSliderModel",
            "_view_count": null,
            "_view_module": "@jupyter-widgets/controls",
            "_view_module_version": "1.5.0",
            "_view_name": "FloatSliderView",
            "continuous_update": true,
            "description": "Velocidad:",
            "description_tooltip": null,
            "disabled": false,
            "layout": "IPY_MODEL_c5f70f9de0fe4b64975c0c1e6973db7b",
            "max": 2,
            "min": 0.5,
            "orientation": "horizontal",
            "readout": true,
            "readout_format": ".2f",
            "step": 0.1,
            "style": "IPY_MODEL_588e1f5a06ad42638e31db425e1f9f76",
            "value": 1
          }
        },
        "c5f70f9de0fe4b64975c0c1e6973db7b": {
          "model_module": "@jupyter-widgets/base",
          "model_name": "LayoutModel",
          "model_module_version": "1.2.0",
          "state": {
            "_model_module": "@jupyter-widgets/base",
            "_model_module_version": "1.2.0",
            "_model_name": "LayoutModel",
            "_view_count": null,
            "_view_module": "@jupyter-widgets/base",
            "_view_module_version": "1.2.0",
            "_view_name": "LayoutView",
            "align_content": null,
            "align_items": null,
            "align_self": null,
            "border": null,
            "bottom": null,
            "display": null,
            "flex": null,
            "flex_flow": null,
            "grid_area": null,
            "grid_auto_columns": null,
            "grid_auto_flow": null,
            "grid_auto_rows": null,
            "grid_column": null,
            "grid_gap": null,
            "grid_row": null,
            "grid_template_areas": null,
            "grid_template_columns": null,
            "grid_template_rows": null,
            "height": null,
            "justify_content": null,
            "justify_items": null,
            "left": null,
            "margin": null,
            "max_height": null,
            "max_width": null,
            "min_height": null,
            "min_width": null,
            "object_fit": null,
            "object_position": null,
            "order": null,
            "overflow": null,
            "overflow_x": null,
            "overflow_y": null,
            "padding": null,
            "right": null,
            "top": null,
            "visibility": null,
            "width": null
          }
        },
        "588e1f5a06ad42638e31db425e1f9f76": {
          "model_module": "@jupyter-widgets/controls",
          "model_name": "SliderStyleModel",
          "model_module_version": "1.5.0",
          "state": {
            "_model_module": "@jupyter-widgets/controls",
            "_model_module_version": "1.5.0",
            "_model_name": "SliderStyleModel",
            "_view_count": null,
            "_view_module": "@jupyter-widgets/base",
            "_view_module_version": "1.2.0",
            "_view_name": "StyleView",
            "description_width": "",
            "handle_color": null
          }
        },
        "92d9fe6a1e56470ab293728a1b7b4829": {
          "model_module": "@jupyter-widgets/controls",
          "model_name": "DropdownModel",
          "model_module_version": "1.5.0",
          "state": {
            "_dom_classes": [],
            "_model_module": "@jupyter-widgets/controls",
            "_model_module_version": "1.5.0",
            "_model_name": "DropdownModel",
            "_options_labels": [
              "online",
              "offline"
            ],
            "_view_count": null,
            "_view_module": "@jupyter-widgets/controls",
            "_view_module_version": "1.5.0",
            "_view_name": "DropdownView",
            "description": "Voz:",
            "description_tooltip": null,
            "disabled": false,
            "index": 0,
            "layout": "IPY_MODEL_140c3872dad5475eb307502b0fc1dac0",
            "style": "IPY_MODEL_a6ea686003a841bea17ab6b837287309"
          }
        },
        "140c3872dad5475eb307502b0fc1dac0": {
          "model_module": "@jupyter-widgets/base",
          "model_name": "LayoutModel",
          "model_module_version": "1.2.0",
          "state": {
            "_model_module": "@jupyter-widgets/base",
            "_model_module_version": "1.2.0",
            "_model_name": "LayoutModel",
            "_view_count": null,
            "_view_module": "@jupyter-widgets/base",
            "_view_module_version": "1.2.0",
            "_view_name": "LayoutView",
            "align_content": null,
            "align_items": null,
            "align_self": null,
            "border": null,
            "bottom": null,
            "display": null,
            "flex": null,
            "flex_flow": null,
            "grid_area": null,
            "grid_auto_columns": null,
            "grid_auto_flow": null,
            "grid_auto_rows": null,
            "grid_column": null,
            "grid_gap": null,
            "grid_row": null,
            "grid_template_areas": null,
            "grid_template_columns": null,
            "grid_template_rows": null,
            "height": null,
            "justify_content": null,
            "justify_items": null,
            "left": null,
            "margin": null,
            "max_height": null,
            "max_width": null,
            "min_height": null,
            "min_width": null,
            "object_fit": null,
            "object_position": null,
            "order": null,
            "overflow": null,
            "overflow_x": null,
            "overflow_y": null,
            "padding": null,
            "right": null,
            "top": null,
            "visibility": null,
            "width": null
          }
        },
        "a6ea686003a841bea17ab6b837287309": {
          "model_module": "@jupyter-widgets/controls",
          "model_name": "DescriptionStyleModel",
          "model_module_version": "1.5.0",
          "state": {
            "_model_module": "@jupyter-widgets/controls",
            "_model_module_version": "1.5.0",
            "_model_name": "DescriptionStyleModel",
            "_view_count": null,
            "_view_module": "@jupyter-widgets/base",
            "_view_module_version": "1.2.0",
            "_view_name": "StyleView",
            "description_width": ""
          }
        },
        "b1a4999de944436d93e927e22d143879": {
          "model_module": "@jupyter-widgets/controls",
          "model_name": "TextModel",
          "model_module_version": "1.5.0",
          "state": {
            "_dom_classes": [],
            "_model_module": "@jupyter-widgets/controls",
            "_model_module_version": "1.5.0",
            "_model_name": "TextModel",
            "_view_count": null,
            "_view_module": "@jupyter-widgets/controls",
            "_view_module_version": "1.5.0",
            "_view_name": "TextView",
            "continuous_update": true,
            "description": "URL:",
            "description_tooltip": null,
            "disabled": false,
            "layout": "IPY_MODEL_1e6db0ed1a5b43b3b8878a13aae0592b",
            "placeholder": "Pega la URL del módulo de Microsoft Learn",
            "style": "IPY_MODEL_891a55a801864de689329360f82a40cc",
            "value": ""
          }
        },
        "1e6db0ed1a5b43b3b8878a13aae0592b": {
          "model_module": "@jupyter-widgets/base",
          "model_name": "LayoutModel",
          "model_module_version": "1.2.0",
          "state": {
            "_model_module": "@jupyter-widgets/base",
            "_model_module_version": "1.2.0",
            "_model_name": "LayoutModel",
            "_view_count": null,
            "_view_module": "@jupyter-widgets/base",
            "_view_module_version": "1.2.0",
            "_view_name": "LayoutView",
            "align_content": null,
            "align_items": null,
            "align_self": null,
            "border": null,
            "bottom": null,
            "display": null,
            "flex": null,
            "flex_flow": null,
            "grid_area": null,
            "grid_auto_columns": null,
            "grid_auto_flow": null,
            "grid_auto_rows": null,
            "grid_column": null,
            "grid_gap": null,
            "grid_row": null,
            "grid_template_areas": null,
            "grid_template_columns": null,
            "grid_template_rows": null,
            "height": null,
            "justify_content": null,
            "justify_items": null,
            "left": null,
            "margin": null,
            "max_height": null,
            "max_width": null,
            "min_height": null,
            "min_width": null,
            "object_fit": null,
            "object_position": null,
            "order": null,
            "overflow": null,
            "overflow_x": null,
            "overflow_y": null,
            "padding": null,
            "right": null,
            "top": null,
            "visibility": null,
            "width": null
          }
        },
        "891a55a801864de689329360f82a40cc": {
          "model_module": "@jupyter-widgets/controls",
          "model_name": "DescriptionStyleModel",
          "model_module_version": "1.5.0",
          "state": {
            "_model_module": "@jupyter-widgets/controls",
            "_model_module_version": "1.5.0",
            "_model_name": "DescriptionStyleModel",
            "_view_count": null,
            "_view_module": "@jupyter-widgets/base",
            "_view_module_version": "1.2.0",
            "_view_name": "StyleView",
            "description_width": ""
          }
        },
        "c69e4af7b173481a8c84f0eee1056449": {
          "model_module": "@jupyter-widgets/controls",
          "model_name": "TextModel",
          "model_module_version": "1.5.0",
          "state": {
            "_dom_classes": [],
            "_model_module": "@jupyter-widgets/controls",
            "_model_module_version": "1.5.0",
            "_model_name": "TextModel",
            "_view_count": null,
            "_view_module": "@jupyter-widgets/controls",
            "_view_module_version": "1.5.0",
            "_view_name": "TextView",
            "continuous_update": true,
            "description": "Idioma:",
            "description_tooltip": null,
            "disabled": false,
            "layout": "IPY_MODEL_142157f767074624a6a985925c169688",
            "placeholder": "​",
            "style": "IPY_MODEL_63b9ceb74b20446485889df2b4f3d60c",
            "value": "es"
          }
        },
        "142157f767074624a6a985925c169688": {
          "model_module": "@jupyter-widgets/base",
          "model_name": "LayoutModel",
          "model_module_version": "1.2.0",
          "state": {
            "_model_module": "@jupyter-widgets/base",
            "_model_module_version": "1.2.0",
            "_model_name": "LayoutModel",
            "_view_count": null,
            "_view_module": "@jupyter-widgets/base",
            "_view_module_version": "1.2.0",
            "_view_name": "LayoutView",
            "align_content": null,
            "align_items": null,
            "align_self": null,
            "border": null,
            "bottom": null,
            "display": null,
            "flex": null,
            "flex_flow": null,
            "grid_area": null,
            "grid_auto_columns": null,
            "grid_auto_flow": null,
            "grid_auto_rows": null,
            "grid_column": null,
            "grid_gap": null,
            "grid_row": null,
            "grid_template_areas": null,
            "grid_template_columns": null,
            "grid_template_rows": null,
            "height": null,
            "justify_content": null,
            "justify_items": null,
            "left": null,
            "margin": null,
            "max_height": null,
            "max_width": null,
            "min_height": null,
            "min_width": null,
            "object_fit": null,
            "object_position": null,
            "order": null,
            "overflow": null,
            "overflow_x": null,
            "overflow_y": null,
            "padding": null,
            "right": null,
            "top": null,
            "visibility": null,
            "width": null
          }
        },
        "63b9ceb74b20446485889df2b4f3d60c": {
          "model_module": "@jupyter-widgets/controls",
          "model_name": "DescriptionStyleModel",
          "model_module_version": "1.5.0",
          "state": {
            "_model_module": "@jupyter-widgets/controls",
            "_model_module_version": "1.5.0",
            "_model_name": "DescriptionStyleModel",
            "_view_count": null,
            "_view_module": "@jupyter-widgets/base",
            "_view_module_version": "1.2.0",
            "_view_name": "StyleView",
            "description_width": ""
          }
        },
        "b91e6c46a442420598efac49e1475442": {
          "model_module": "@jupyter-widgets/controls",
          "model_name": "FloatSliderModel",
          "model_module_version": "1.5.0",
          "state": {
            "_dom_classes": [],
            "_model_module": "@jupyter-widgets/controls",
            "_model_module_version": "1.5.0",
            "_model_name": "FloatSliderModel",
            "_view_count": null,
            "_view_module": "@jupyter-widgets/controls",
            "_view_module_version": "1.5.0",
            "_view_name": "FloatSliderView",
            "continuous_update": true,
            "description": "Velocidad:",
            "description_tooltip": null,
            "disabled": false,
            "layout": "IPY_MODEL_16bba5cc6e1a4d5bbeec1ff1d4b4a7e0",
            "max": 2,
            "min": 0.5,
            "orientation": "horizontal",
            "readout": true,
            "readout_format": ".2f",
            "step": 0.1,
            "style": "IPY_MODEL_72ce00de10144c8c8f26172d27254f4d",
            "value": 1
          }
        },
        "16bba5cc6e1a4d5bbeec1ff1d4b4a7e0": {
          "model_module": "@jupyter-widgets/base",
          "model_name": "LayoutModel",
          "model_module_version": "1.2.0",
          "state": {
            "_model_module": "@jupyter-widgets/base",
            "_model_module_version": "1.2.0",
            "_model_name": "LayoutModel",
            "_view_count": null,
            "_view_module": "@jupyter-widgets/base",
            "_view_module_version": "1.2.0",
            "_view_name": "LayoutView",
            "align_content": null,
            "align_items": null,
            "align_self": null,
            "border": null,
            "bottom": null,
            "display": null,
            "flex": null,
            "flex_flow": null,
            "grid_area": null,
            "grid_auto_columns": null,
            "grid_auto_flow": null,
            "grid_auto_rows": null,
            "grid_column": null,
            "grid_gap": null,
            "grid_row": null,
            "grid_template_areas": null,
            "grid_template_columns": null,
            "grid_template_rows": null,
            "height": null,
            "justify_content": null,
            "justify_items": null,
            "left": null,
            "margin": null,
            "max_height": null,
            "max_width": null,
            "min_height": null,
            "min_width": null,
            "object_fit": null,
            "object_position": null,
            "order": null,
            "overflow": null,
            "overflow_x": null,
            "overflow_y": null,
            "padding": null,
            "right": null,
            "top": null,
            "visibility": null,
            "width": null
          }
        },
        "72ce00de10144c8c8f26172d27254f4d": {
          "model_module": "@jupyter-widgets/controls",
          "model_name": "SliderStyleModel",
          "model_module_version": "1.5.0",
          "state": {
            "_model_module": "@jupyter-widgets/controls",
            "_model_module_version": "1.5.0",
            "_model_name": "SliderStyleModel",
            "_view_count": null,
            "_view_module": "@jupyter-widgets/base",
            "_view_module_version": "1.2.0",
            "_view_name": "StyleView",
            "description_width": "",
            "handle_color": null
          }
        },
        "757fbf53c8c14d0e8ec7a0851953eca6": {
          "model_module": "@jupyter-widgets/controls",
          "model_name": "DropdownModel",
          "model_module_version": "1.5.0",
          "state": {
            "_dom_classes": [],
            "_model_module": "@jupyter-widgets/controls",
            "_model_module_version": "1.5.0",
            "_model_name": "DropdownModel",
            "_options_labels": [
              "online",
              "offline"
            ],
            "_view_count": null,
            "_view_module": "@jupyter-widgets/controls",
            "_view_module_version": "1.5.0",
            "_view_name": "DropdownView",
            "description": "Voz:",
            "description_tooltip": null,
            "disabled": false,
            "index": 0,
            "layout": "IPY_MODEL_7005ed0895ab4c47a767af4956877055",
            "style": "IPY_MODEL_ff62d5c79dc14d21849822a887b8f0d9"
          }
        },
        "7005ed0895ab4c47a767af4956877055": {
          "model_module": "@jupyter-widgets/base",
          "model_name": "LayoutModel",
          "model_module_version": "1.2.0",
          "state": {
            "_model_module": "@jupyter-widgets/base",
            "_model_module_version": "1.2.0",
            "_model_name": "LayoutModel",
            "_view_count": null,
            "_view_module": "@jupyter-widgets/base",
            "_view_module_version": "1.2.0",
            "_view_name": "LayoutView",
            "align_content": null,
            "align_items": null,
            "align_self": null,
            "border": null,
            "bottom": null,
            "display": null,
            "flex": null,
            "flex_flow": null,
            "grid_area": null,
            "grid_auto_columns": null,
            "grid_auto_flow": null,
            "grid_auto_rows": null,
            "grid_column": null,
            "grid_gap": null,
            "grid_row": null,
            "grid_template_areas": null,
            "grid_template_columns": null,
            "grid_template_rows": null,
            "height": null,
            "justify_content": null,
            "justify_items": null,
            "left": null,
            "margin": null,
            "max_height": null,
            "max_width": null,
            "min_height": null,
            "min_width": null,
            "object_fit": null,
            "object_position": null,
            "order": null,
            "overflow": null,
            "overflow_x": null,
            "overflow_y": null,
            "padding": null,
            "right": null,
            "top": null,
            "visibility": null,
            "width": null
          }
        },
        "ff62d5c79dc14d21849822a887b8f0d9": {
          "model_module": "@jupyter-widgets/controls",
          "model_name": "DescriptionStyleModel",
          "model_module_version": "1.5.0",
          "state": {
            "_model_module": "@jupyter-widgets/controls",
            "_model_module_version": "1.5.0",
            "_model_name": "DescriptionStyleModel",
            "_view_count": null,
            "_view_module": "@jupyter-widgets/base",
            "_view_module_version": "1.2.0",
            "_view_name": "StyleView",
            "description_width": ""
          }
        }
      }
    }
  },
  "nbformat": 4,
  "nbformat_minor": 5
}